{
 "cells": [
  {
   "cell_type": "markdown",
   "id": "217175e1-094b-4d2d-aefd-bed3cc9853eb",
   "metadata": {},
   "source": [
    "## Adult Income Dataset - Exploratory and descriptive analysis"
   ]
  },
  {
   "cell_type": "code",
   "execution_count": 40,
   "id": "045e9251-cbd5-44be-ae41-78a297f8c9ec",
   "metadata": {},
   "outputs": [],
   "source": [
    "import pandas as pd \n",
    "import numpy as np \n",
    "import os\n",
    "import plotly.express as px"
   ]
  },
  {
   "cell_type": "code",
   "execution_count": 41,
   "id": "1cde4742-9b86-41fd-9a3c-cfdb0bc159d0",
   "metadata": {},
   "outputs": [],
   "source": [
    "#get working directory\n",
    "current_dir = os.getcwd()\n",
    "\n",
    "# Go one directory up to the root directory\n",
    "project_root_dir = os.path.dirname(current_dir)\n",
    "\n",
    "#define paths to the data folders\n",
    "data_dir = os.path.join(project_root_dir,'data')\n",
    "row_dir = os.path.join(data_dir,'row')\n",
    "processed_dir = os.path.join(data_dir,'processed') \n",
    "\n",
    "# define path results folder \n",
    "results_dir = os.path.join(project_root_dir,'results')\n",
    "\n",
    "# define paths to docs folder\n",
    "docs_dir = os.path.join(project_root_dir,'docs')\n",
    "\n",
    "# Create directories if they do not exit\n",
    "os.makedirs(row_dir, exist_ok = True) \n",
    "os.makedirs(processed_dir, exist_ok = True) \n",
    "os.makedirs(results_dir, exist_ok = True)\n",
    "os.makedirs(docs_dir, exist_ok = True)"
   ]
  },
  {
   "cell_type": "code",
   "execution_count": 42,
   "id": "8e8537f5-e8a6-47f1-aff9-fe45c3fef67b",
   "metadata": {},
   "outputs": [
    {
     "data": {
      "text/html": [
       "<div>\n",
       "<style scoped>\n",
       "    .dataframe tbody tr th:only-of-type {\n",
       "        vertical-align: middle;\n",
       "    }\n",
       "\n",
       "    .dataframe tbody tr th {\n",
       "        vertical-align: top;\n",
       "    }\n",
       "\n",
       "    .dataframe thead th {\n",
       "        text-align: right;\n",
       "    }\n",
       "</style>\n",
       "<table border=\"1\" class=\"dataframe\">\n",
       "  <thead>\n",
       "    <tr style=\"text-align: right;\">\n",
       "      <th></th>\n",
       "      <th>age</th>\n",
       "      <th>workclass</th>\n",
       "      <th>fnlwgt</th>\n",
       "      <th>education_num</th>\n",
       "      <th>marital_status</th>\n",
       "      <th>relationship</th>\n",
       "      <th>race</th>\n",
       "      <th>sex</th>\n",
       "      <th>capital_gain</th>\n",
       "      <th>capital_loss</th>\n",
       "      <th>hours_per_week</th>\n",
       "      <th>income</th>\n",
       "      <th>education_level</th>\n",
       "      <th>occupation_grouped</th>\n",
       "      <th>native_region</th>\n",
       "      <th>age_group</th>\n",
       "    </tr>\n",
       "  </thead>\n",
       "  <tbody>\n",
       "    <tr>\n",
       "      <th>0</th>\n",
       "      <td>39</td>\n",
       "      <td>state-gov</td>\n",
       "      <td>77516</td>\n",
       "      <td>13</td>\n",
       "      <td>single</td>\n",
       "      <td>single</td>\n",
       "      <td>white</td>\n",
       "      <td>male</td>\n",
       "      <td>2174</td>\n",
       "      <td>0</td>\n",
       "      <td>40</td>\n",
       "      <td>&lt;=50k</td>\n",
       "      <td>tertiary</td>\n",
       "      <td>white collar</td>\n",
       "      <td>north america</td>\n",
       "      <td>36-45</td>\n",
       "    </tr>\n",
       "    <tr>\n",
       "      <th>1</th>\n",
       "      <td>50</td>\n",
       "      <td>self-emp-not-inc</td>\n",
       "      <td>83311</td>\n",
       "      <td>13</td>\n",
       "      <td>married</td>\n",
       "      <td>male spouse</td>\n",
       "      <td>white</td>\n",
       "      <td>male</td>\n",
       "      <td>0</td>\n",
       "      <td>0</td>\n",
       "      <td>13</td>\n",
       "      <td>&lt;=50k</td>\n",
       "      <td>tertiary</td>\n",
       "      <td>white collar</td>\n",
       "      <td>north america</td>\n",
       "      <td>46-60</td>\n",
       "    </tr>\n",
       "    <tr>\n",
       "      <th>2</th>\n",
       "      <td>38</td>\n",
       "      <td>private</td>\n",
       "      <td>215646</td>\n",
       "      <td>9</td>\n",
       "      <td>divorced or separated</td>\n",
       "      <td>single</td>\n",
       "      <td>white</td>\n",
       "      <td>male</td>\n",
       "      <td>0</td>\n",
       "      <td>0</td>\n",
       "      <td>40</td>\n",
       "      <td>&lt;=50k</td>\n",
       "      <td>secondary-school graduate</td>\n",
       "      <td>blue collar</td>\n",
       "      <td>north america</td>\n",
       "      <td>36-45</td>\n",
       "    </tr>\n",
       "    <tr>\n",
       "      <th>3</th>\n",
       "      <td>53</td>\n",
       "      <td>private</td>\n",
       "      <td>234721</td>\n",
       "      <td>7</td>\n",
       "      <td>married</td>\n",
       "      <td>male spouse</td>\n",
       "      <td>black</td>\n",
       "      <td>male</td>\n",
       "      <td>0</td>\n",
       "      <td>0</td>\n",
       "      <td>40</td>\n",
       "      <td>&lt;=50k</td>\n",
       "      <td>secondary school</td>\n",
       "      <td>blue collar</td>\n",
       "      <td>north america</td>\n",
       "      <td>46-60</td>\n",
       "    </tr>\n",
       "    <tr>\n",
       "      <th>4</th>\n",
       "      <td>28</td>\n",
       "      <td>private</td>\n",
       "      <td>338409</td>\n",
       "      <td>13</td>\n",
       "      <td>married</td>\n",
       "      <td>female spouse</td>\n",
       "      <td>black</td>\n",
       "      <td>female</td>\n",
       "      <td>0</td>\n",
       "      <td>0</td>\n",
       "      <td>40</td>\n",
       "      <td>&lt;=50k</td>\n",
       "      <td>tertiary</td>\n",
       "      <td>white collar</td>\n",
       "      <td>central america</td>\n",
       "      <td>26-35</td>\n",
       "    </tr>\n",
       "    <tr>\n",
       "      <th>5</th>\n",
       "      <td>37</td>\n",
       "      <td>private</td>\n",
       "      <td>284582</td>\n",
       "      <td>14</td>\n",
       "      <td>married</td>\n",
       "      <td>female spouse</td>\n",
       "      <td>white</td>\n",
       "      <td>female</td>\n",
       "      <td>0</td>\n",
       "      <td>0</td>\n",
       "      <td>40</td>\n",
       "      <td>&lt;=50k</td>\n",
       "      <td>tertiary</td>\n",
       "      <td>white collar</td>\n",
       "      <td>north america</td>\n",
       "      <td>36-45</td>\n",
       "    </tr>\n",
       "    <tr>\n",
       "      <th>6</th>\n",
       "      <td>49</td>\n",
       "      <td>private</td>\n",
       "      <td>160187</td>\n",
       "      <td>5</td>\n",
       "      <td>devorced or separated</td>\n",
       "      <td>single</td>\n",
       "      <td>black</td>\n",
       "      <td>female</td>\n",
       "      <td>0</td>\n",
       "      <td>0</td>\n",
       "      <td>16</td>\n",
       "      <td>&lt;=50k</td>\n",
       "      <td>secondary school</td>\n",
       "      <td>service</td>\n",
       "      <td>central america</td>\n",
       "      <td>46-60</td>\n",
       "    </tr>\n",
       "    <tr>\n",
       "      <th>7</th>\n",
       "      <td>52</td>\n",
       "      <td>self-emp-not-inc</td>\n",
       "      <td>209642</td>\n",
       "      <td>9</td>\n",
       "      <td>married</td>\n",
       "      <td>male spouse</td>\n",
       "      <td>white</td>\n",
       "      <td>male</td>\n",
       "      <td>0</td>\n",
       "      <td>0</td>\n",
       "      <td>45</td>\n",
       "      <td>&gt;50k</td>\n",
       "      <td>secondary-school graduate</td>\n",
       "      <td>white collar</td>\n",
       "      <td>north america</td>\n",
       "      <td>46-60</td>\n",
       "    </tr>\n",
       "    <tr>\n",
       "      <th>8</th>\n",
       "      <td>31</td>\n",
       "      <td>private</td>\n",
       "      <td>45781</td>\n",
       "      <td>14</td>\n",
       "      <td>single</td>\n",
       "      <td>single</td>\n",
       "      <td>white</td>\n",
       "      <td>female</td>\n",
       "      <td>14084</td>\n",
       "      <td>0</td>\n",
       "      <td>50</td>\n",
       "      <td>&gt;50k</td>\n",
       "      <td>tertiary</td>\n",
       "      <td>white collar</td>\n",
       "      <td>north america</td>\n",
       "      <td>26-35</td>\n",
       "    </tr>\n",
       "    <tr>\n",
       "      <th>9</th>\n",
       "      <td>42</td>\n",
       "      <td>private</td>\n",
       "      <td>159449</td>\n",
       "      <td>13</td>\n",
       "      <td>married</td>\n",
       "      <td>male spouse</td>\n",
       "      <td>white</td>\n",
       "      <td>male</td>\n",
       "      <td>5178</td>\n",
       "      <td>0</td>\n",
       "      <td>40</td>\n",
       "      <td>&gt;50k</td>\n",
       "      <td>tertiary</td>\n",
       "      <td>white collar</td>\n",
       "      <td>north america</td>\n",
       "      <td>36-45</td>\n",
       "    </tr>\n",
       "  </tbody>\n",
       "</table>\n",
       "</div>"
      ],
      "text/plain": [
       "   age         workclass  fnlwgt  education_num         marital_status  \\\n",
       "0   39         state-gov   77516             13                 single   \n",
       "1   50  self-emp-not-inc   83311             13                married   \n",
       "2   38           private  215646              9  divorced or separated   \n",
       "3   53           private  234721              7                married   \n",
       "4   28           private  338409             13                married   \n",
       "5   37           private  284582             14                married   \n",
       "6   49           private  160187              5  devorced or separated   \n",
       "7   52  self-emp-not-inc  209642              9                married   \n",
       "8   31           private   45781             14                 single   \n",
       "9   42           private  159449             13                married   \n",
       "\n",
       "    relationship   race     sex  capital_gain  capital_loss  hours_per_week  \\\n",
       "0         single  white    male          2174             0              40   \n",
       "1    male spouse  white    male             0             0              13   \n",
       "2         single  white    male             0             0              40   \n",
       "3    male spouse  black    male             0             0              40   \n",
       "4  female spouse  black  female             0             0              40   \n",
       "5  female spouse  white  female             0             0              40   \n",
       "6         single  black  female             0             0              16   \n",
       "7    male spouse  white    male             0             0              45   \n",
       "8         single  white  female         14084             0              50   \n",
       "9    male spouse  white    male          5178             0              40   \n",
       "\n",
       "  income            education_level occupation_grouped    native_region  \\\n",
       "0  <=50k                   tertiary       white collar    north america   \n",
       "1  <=50k                   tertiary       white collar    north america   \n",
       "2  <=50k  secondary-school graduate        blue collar    north america   \n",
       "3  <=50k           secondary school        blue collar    north america   \n",
       "4  <=50k                   tertiary       white collar  central america   \n",
       "5  <=50k                   tertiary       white collar    north america   \n",
       "6  <=50k           secondary school            service  central america   \n",
       "7   >50k  secondary-school graduate       white collar    north america   \n",
       "8   >50k                   tertiary       white collar    north america   \n",
       "9   >50k                   tertiary       white collar    north america   \n",
       "\n",
       "  age_group  \n",
       "0     36-45  \n",
       "1     46-60  \n",
       "2     36-45  \n",
       "3     46-60  \n",
       "4     26-35  \n",
       "5     36-45  \n",
       "6     46-60  \n",
       "7     46-60  \n",
       "8     26-35  \n",
       "9     36-45  "
      ]
     },
     "execution_count": 42,
     "metadata": {},
     "output_type": "execute_result"
    }
   ],
   "source": [
    "adult_data_filename = os.path.join(processed_dir, \"adult_cleaned.csv\")\n",
    "adult_df = pd.read_csv(adult_data_filename)\n",
    "adult_df.head(10)"
   ]
  },
  {
   "cell_type": "code",
   "execution_count": 43,
   "id": "7dc21f7e-eddb-48eb-bb0b-d4441fc84279",
   "metadata": {},
   "outputs": [
    {
     "data": {
      "text/plain": [
       "(32514, 16)"
      ]
     },
     "execution_count": 43,
     "metadata": {},
     "output_type": "execute_result"
    }
   ],
   "source": [
    "adult_df.shape"
   ]
  },
  {
   "cell_type": "code",
   "execution_count": 44,
   "id": "c18d1653-15aa-4c0f-a275-fdff4b3b43df",
   "metadata": {},
   "outputs": [
    {
     "name": "stdout",
     "output_type": "stream",
     "text": [
      "<class 'pandas.core.frame.DataFrame'>\n",
      "RangeIndex: 32514 entries, 0 to 32513\n",
      "Data columns (total 16 columns):\n",
      " #   Column              Non-Null Count  Dtype \n",
      "---  ------              --------------  ----- \n",
      " 0   age                 32514 non-null  int64 \n",
      " 1   workclass           32514 non-null  object\n",
      " 2   fnlwgt              32514 non-null  int64 \n",
      " 3   education_num       32514 non-null  int64 \n",
      " 4   marital_status      32514 non-null  object\n",
      " 5   relationship        32514 non-null  object\n",
      " 6   race                32514 non-null  object\n",
      " 7   sex                 32514 non-null  object\n",
      " 8   capital_gain        32514 non-null  int64 \n",
      " 9   capital_loss        32514 non-null  int64 \n",
      " 10  hours_per_week      32514 non-null  int64 \n",
      " 11  income              32514 non-null  object\n",
      " 12  education_level     32514 non-null  object\n",
      " 13  occupation_grouped  32514 non-null  object\n",
      " 14  native_region       32514 non-null  object\n",
      " 15  age_group           32514 non-null  object\n",
      "dtypes: int64(6), object(10)\n",
      "memory usage: 4.0+ MB\n"
     ]
    }
   ],
   "source": [
    "adult_df.info()"
   ]
  },
  {
   "cell_type": "code",
   "execution_count": 45,
   "id": "73bab7ad-7011-4187-bba8-18d316f6554d",
   "metadata": {},
   "outputs": [
    {
     "data": {
      "text/html": [
       "<div>\n",
       "<style scoped>\n",
       "    .dataframe tbody tr th:only-of-type {\n",
       "        vertical-align: middle;\n",
       "    }\n",
       "\n",
       "    .dataframe tbody tr th {\n",
       "        vertical-align: top;\n",
       "    }\n",
       "\n",
       "    .dataframe thead th {\n",
       "        text-align: right;\n",
       "    }\n",
       "</style>\n",
       "<table border=\"1\" class=\"dataframe\">\n",
       "  <thead>\n",
       "    <tr style=\"text-align: right;\">\n",
       "      <th></th>\n",
       "      <th>age</th>\n",
       "      <th>fnlwgt</th>\n",
       "      <th>education_num</th>\n",
       "      <th>capital_gain</th>\n",
       "      <th>capital_loss</th>\n",
       "      <th>hours_per_week</th>\n",
       "    </tr>\n",
       "  </thead>\n",
       "  <tbody>\n",
       "    <tr>\n",
       "      <th>count</th>\n",
       "      <td>32514.000000</td>\n",
       "      <td>3.251400e+04</td>\n",
       "      <td>32514.000000</td>\n",
       "      <td>32514.000000</td>\n",
       "      <td>32514.000000</td>\n",
       "      <td>32514.000000</td>\n",
       "    </tr>\n",
       "    <tr>\n",
       "      <th>mean</th>\n",
       "      <td>38.589746</td>\n",
       "      <td>1.897964e+05</td>\n",
       "      <td>10.081626</td>\n",
       "      <td>1079.206619</td>\n",
       "      <td>87.430030</td>\n",
       "      <td>40.440949</td>\n",
       "    </tr>\n",
       "    <tr>\n",
       "      <th>std</th>\n",
       "      <td>13.639033</td>\n",
       "      <td>1.055780e+05</td>\n",
       "      <td>2.571975</td>\n",
       "      <td>7390.514416</td>\n",
       "      <td>403.237687</td>\n",
       "      <td>12.349994</td>\n",
       "    </tr>\n",
       "    <tr>\n",
       "      <th>min</th>\n",
       "      <td>17.000000</td>\n",
       "      <td>1.228500e+04</td>\n",
       "      <td>1.000000</td>\n",
       "      <td>0.000000</td>\n",
       "      <td>0.000000</td>\n",
       "      <td>1.000000</td>\n",
       "    </tr>\n",
       "    <tr>\n",
       "      <th>25%</th>\n",
       "      <td>28.000000</td>\n",
       "      <td>1.178330e+05</td>\n",
       "      <td>9.000000</td>\n",
       "      <td>0.000000</td>\n",
       "      <td>0.000000</td>\n",
       "      <td>40.000000</td>\n",
       "    </tr>\n",
       "    <tr>\n",
       "      <th>50%</th>\n",
       "      <td>37.000000</td>\n",
       "      <td>1.783630e+05</td>\n",
       "      <td>10.000000</td>\n",
       "      <td>0.000000</td>\n",
       "      <td>0.000000</td>\n",
       "      <td>40.000000</td>\n",
       "    </tr>\n",
       "    <tr>\n",
       "      <th>75%</th>\n",
       "      <td>48.000000</td>\n",
       "      <td>2.370615e+05</td>\n",
       "      <td>12.000000</td>\n",
       "      <td>0.000000</td>\n",
       "      <td>0.000000</td>\n",
       "      <td>45.000000</td>\n",
       "    </tr>\n",
       "    <tr>\n",
       "      <th>max</th>\n",
       "      <td>90.000000</td>\n",
       "      <td>1.484705e+06</td>\n",
       "      <td>16.000000</td>\n",
       "      <td>99999.000000</td>\n",
       "      <td>4356.000000</td>\n",
       "      <td>99.000000</td>\n",
       "    </tr>\n",
       "  </tbody>\n",
       "</table>\n",
       "</div>"
      ],
      "text/plain": [
       "                age        fnlwgt  education_num  capital_gain  capital_loss  \\\n",
       "count  32514.000000  3.251400e+04   32514.000000  32514.000000  32514.000000   \n",
       "mean      38.589746  1.897964e+05      10.081626   1079.206619     87.430030   \n",
       "std       13.639033  1.055780e+05       2.571975   7390.514416    403.237687   \n",
       "min       17.000000  1.228500e+04       1.000000      0.000000      0.000000   \n",
       "25%       28.000000  1.178330e+05       9.000000      0.000000      0.000000   \n",
       "50%       37.000000  1.783630e+05      10.000000      0.000000      0.000000   \n",
       "75%       48.000000  2.370615e+05      12.000000      0.000000      0.000000   \n",
       "max       90.000000  1.484705e+06      16.000000  99999.000000   4356.000000   \n",
       "\n",
       "       hours_per_week  \n",
       "count    32514.000000  \n",
       "mean        40.440949  \n",
       "std         12.349994  \n",
       "min          1.000000  \n",
       "25%         40.000000  \n",
       "50%         40.000000  \n",
       "75%         45.000000  \n",
       "max         99.000000  "
      ]
     },
     "execution_count": 45,
     "metadata": {},
     "output_type": "execute_result"
    }
   ],
   "source": [
    "adult_df.describe()"
   ]
  },
  {
   "cell_type": "code",
   "execution_count": 46,
   "id": "c5cb686f-4a3a-488d-a01e-57660c3afa13",
   "metadata": {},
   "outputs": [
    {
     "data": {
      "text/html": [
       "<div>\n",
       "<style scoped>\n",
       "    .dataframe tbody tr th:only-of-type {\n",
       "        vertical-align: middle;\n",
       "    }\n",
       "\n",
       "    .dataframe tbody tr th {\n",
       "        vertical-align: top;\n",
       "    }\n",
       "\n",
       "    .dataframe thead th {\n",
       "        text-align: right;\n",
       "    }\n",
       "</style>\n",
       "<table border=\"1\" class=\"dataframe\">\n",
       "  <thead>\n",
       "    <tr style=\"text-align: right;\">\n",
       "      <th></th>\n",
       "      <th>workclass</th>\n",
       "      <th>marital_status</th>\n",
       "      <th>relationship</th>\n",
       "      <th>race</th>\n",
       "      <th>sex</th>\n",
       "      <th>income</th>\n",
       "      <th>education_level</th>\n",
       "      <th>occupation_grouped</th>\n",
       "      <th>native_region</th>\n",
       "      <th>age_group</th>\n",
       "    </tr>\n",
       "  </thead>\n",
       "  <tbody>\n",
       "    <tr>\n",
       "      <th>count</th>\n",
       "      <td>32514</td>\n",
       "      <td>32514</td>\n",
       "      <td>32514</td>\n",
       "      <td>32514</td>\n",
       "      <td>32514</td>\n",
       "      <td>32514</td>\n",
       "      <td>32514</td>\n",
       "      <td>32514</td>\n",
       "      <td>32514</td>\n",
       "      <td>32514</td>\n",
       "    </tr>\n",
       "    <tr>\n",
       "      <th>unique</th>\n",
       "      <td>9</td>\n",
       "      <td>5</td>\n",
       "      <td>5</td>\n",
       "      <td>5</td>\n",
       "      <td>2</td>\n",
       "      <td>2</td>\n",
       "      <td>7</td>\n",
       "      <td>5</td>\n",
       "      <td>6</td>\n",
       "      <td>7</td>\n",
       "    </tr>\n",
       "    <tr>\n",
       "      <th>top</th>\n",
       "      <td>private</td>\n",
       "      <td>married</td>\n",
       "      <td>male spouse</td>\n",
       "      <td>white</td>\n",
       "      <td>male</td>\n",
       "      <td>&lt;=50k</td>\n",
       "      <td>secondary-school graduate</td>\n",
       "      <td>white collar</td>\n",
       "      <td>north america</td>\n",
       "      <td>26-35</td>\n",
       "    </tr>\n",
       "    <tr>\n",
       "      <th>freq</th>\n",
       "      <td>22650</td>\n",
       "      <td>14984</td>\n",
       "      <td>13178</td>\n",
       "      <td>27772</td>\n",
       "      <td>21758</td>\n",
       "      <td>24678</td>\n",
       "      <td>10484</td>\n",
       "      <td>16533</td>\n",
       "      <td>30019</td>\n",
       "      <td>8501</td>\n",
       "    </tr>\n",
       "  </tbody>\n",
       "</table>\n",
       "</div>"
      ],
      "text/plain": [
       "       workclass marital_status relationship   race    sex income  \\\n",
       "count      32514          32514        32514  32514  32514  32514   \n",
       "unique         9              5            5      5      2      2   \n",
       "top      private        married  male spouse  white   male  <=50k   \n",
       "freq       22650          14984        13178  27772  21758  24678   \n",
       "\n",
       "                  education_level occupation_grouped  native_region age_group  \n",
       "count                       32514              32514          32514     32514  \n",
       "unique                          7                  5              6         7  \n",
       "top     secondary-school graduate       white collar  north america     26-35  \n",
       "freq                        10484              16533          30019      8501  "
      ]
     },
     "execution_count": 46,
     "metadata": {},
     "output_type": "execute_result"
    }
   ],
   "source": [
    "adult_df.describe(include='object')"
   ]
  },
  {
   "cell_type": "code",
   "execution_count": 47,
   "id": "b7e760df-a79e-4b9c-a06d-d232d4c030b4",
   "metadata": {},
   "outputs": [
    {
     "data": {
      "text/plain": [
       "workclass\n",
       "private             22650\n",
       "self-emp-not-inc     2540\n",
       "local-gov            2093\n",
       "unknown              1836\n",
       "state-gov            1298\n",
       "self-emp-inc         1116\n",
       "federal-gov           960\n",
       "without-pay            14\n",
       "never-worked            7\n",
       "Name: count, dtype: int64"
      ]
     },
     "execution_count": 47,
     "metadata": {},
     "output_type": "execute_result"
    }
   ],
   "source": [
    "adult_df['workclass'].value_counts()"
   ]
  },
  {
   "cell_type": "code",
   "execution_count": 48,
   "id": "df335576-b675-4392-b050-75a356e87e79",
   "metadata": {},
   "outputs": [
    {
     "data": {
      "text/html": [
       "<div>\n",
       "<style scoped>\n",
       "    .dataframe tbody tr th:only-of-type {\n",
       "        vertical-align: middle;\n",
       "    }\n",
       "\n",
       "    .dataframe tbody tr th {\n",
       "        vertical-align: top;\n",
       "    }\n",
       "\n",
       "    .dataframe thead th {\n",
       "        text-align: right;\n",
       "    }\n",
       "</style>\n",
       "<table border=\"1\" class=\"dataframe\">\n",
       "  <thead>\n",
       "    <tr style=\"text-align: right;\">\n",
       "      <th></th>\n",
       "      <th>income</th>\n",
       "      <th>total</th>\n",
       "    </tr>\n",
       "  </thead>\n",
       "  <tbody>\n",
       "    <tr>\n",
       "      <th>0</th>\n",
       "      <td>&lt;=50k</td>\n",
       "      <td>24678</td>\n",
       "    </tr>\n",
       "    <tr>\n",
       "      <th>1</th>\n",
       "      <td>&gt;50k</td>\n",
       "      <td>7836</td>\n",
       "    </tr>\n",
       "  </tbody>\n",
       "</table>\n",
       "</div>"
      ],
      "text/plain": [
       "  income  total\n",
       "0  <=50k  24678\n",
       "1   >50k   7836"
      ]
     },
     "execution_count": 48,
     "metadata": {},
     "output_type": "execute_result"
    }
   ],
   "source": [
    "adult_df_income = adult_df.groupby('income').size().reset_index(name='total')\n",
    "adult_df_income"
   ]
  },
  {
   "cell_type": "code",
   "execution_count": 49,
   "id": "b8b98015-ca7a-479c-8b21-0f524e9970cb",
   "metadata": {},
   "outputs": [
    {
     "data": {
      "application/vnd.plotly.v1+json": {
       "config": {
        "plotlyServerURL": "https://plot.ly"
       },
       "data": [
        {
         "domain": {
          "x": [
           0,
           1
          ],
          "y": [
           0,
           1
          ]
         },
         "hovertemplate": "income=%{label}<br>total=%{value}<extra></extra>",
         "labels": [
          "<=50k",
          ">50k"
         ],
         "legendgroup": "",
         "name": "",
         "showlegend": true,
         "type": "pie",
         "values": {
          "_inputArray": {
           "0": 24678,
           "1": 7836,
           "bdata": "ZmCcHg==",
           "dtype": "i2",
           "shape": "2"
          },
          "bdata": "ZmCcHg==",
          "dtype": "i2"
         }
        }
       ],
       "layout": {
        "autosize": true,
        "legend": {
         "tracegroupgap": 0
        },
        "paper_bgcolor": "rgba(0, 0, 0, 0)",
        "piecolorway": [
         "red",
         "black"
        ],
        "plot_bgcolor": "rgba(0, 0, 0, 0)",
        "template": {
         "data": {
          "pie": [
           {
            "automargin": true,
            "type": "pie"
           }
          ],
          "scatter": [
           {
            "line": {
             "width": 3
            },
            "marker": {
             "size": 9
            },
            "type": "scatter"
           }
          ],
          "scatter3d": [
           {
            "line": {
             "width": 3
            },
            "marker": {
             "size": 9
            },
            "type": "scatter3d"
           }
          ],
          "scattergeo": [
           {
            "line": {
             "width": 3
            },
            "marker": {
             "size": 9
            },
            "type": "scattergeo"
           }
          ],
          "scattergl": [
           {
            "line": {
             "width": 3
            },
            "marker": {
             "size": 9
            },
            "type": "scattergl"
           }
          ],
          "scatterpolar": [
           {
            "line": {
             "width": 3
            },
            "marker": {
             "size": 9
            },
            "type": "scatterpolar"
           }
          ],
          "scatterpolargl": [
           {
            "line": {
             "width": 3
            },
            "marker": {
             "size": 9
            },
            "type": "scatterpolargl"
           }
          ],
          "scatterternary": [
           {
            "line": {
             "width": 3
            },
            "marker": {
             "size": 9
            },
            "type": "scatterternary"
           }
          ],
          "table": [
           {
            "cells": {
             "height": 30
            },
            "header": {
             "height": 36
            },
            "type": "table"
           }
          ]
         },
         "layout": {
          "font": {
           "size": 18
          },
          "xaxis": {
           "title": {
            "standoff": 15
           }
          },
          "yaxis": {
           "title": {
            "standoff": 15
           }
          }
         }
        },
        "title": {
         "text": "Overall Income Distribution"
        }
       }
      }
     },
     "metadata": {},
     "output_type": "display_data"
    }
   ],
   "source": [
    "fig=px.pie(\n",
    "    adult_df_income,names='income',values='total',\n",
    "    title='Overall Income Distribution',\n",
    "    color_discrete_sequence=[\"red\",\"black\"]\n",
    ")\n",
    "fig.update_layout(template=\"presentation\", paper_bgcolor=\"rgba(0,0,0,0)\",plot_bgcolor=(\"rgba(0,0,0,0)\"))\n",
    "fig.show()\n",
    "fig.write_image(os.path.join(results_dir,'income_distribution_pie_chart.jpg'))\n",
    "fig.write_image(os.path.join(results_dir,'income_distribution_pie_chart.png'))\n",
    "fig.write_html(os.path.join(results_dir,'income_distribution_pie_chart.html'))"
   ]
  },
  {
   "cell_type": "code",
   "execution_count": 50,
   "id": "2977eb0b-d1c3-48d1-a303-1d2f610c1968",
   "metadata": {},
   "outputs": [
    {
     "data": {
      "text/html": [
       "<div>\n",
       "<style scoped>\n",
       "    .dataframe tbody tr th:only-of-type {\n",
       "        vertical-align: middle;\n",
       "    }\n",
       "\n",
       "    .dataframe tbody tr th {\n",
       "        vertical-align: top;\n",
       "    }\n",
       "\n",
       "    .dataframe thead th {\n",
       "        text-align: right;\n",
       "    }\n",
       "</style>\n",
       "<table border=\"1\" class=\"dataframe\">\n",
       "  <thead>\n",
       "    <tr style=\"text-align: right;\">\n",
       "      <th></th>\n",
       "      <th>age_group</th>\n",
       "      <th>income</th>\n",
       "      <th>total_by_age</th>\n",
       "    </tr>\n",
       "  </thead>\n",
       "  <tbody>\n",
       "    <tr>\n",
       "      <th>0</th>\n",
       "      <td>18-25</td>\n",
       "      <td>&lt;=50k</td>\n",
       "      <td>5334</td>\n",
       "    </tr>\n",
       "    <tr>\n",
       "      <th>1</th>\n",
       "      <td>18-25</td>\n",
       "      <td>&gt;50k</td>\n",
       "      <td>114</td>\n",
       "    </tr>\n",
       "    <tr>\n",
       "      <th>2</th>\n",
       "      <td>26-35</td>\n",
       "      <td>&lt;=50k</td>\n",
       "      <td>6910</td>\n",
       "    </tr>\n",
       "    <tr>\n",
       "      <th>3</th>\n",
       "      <td>26-35</td>\n",
       "      <td>&gt;50k</td>\n",
       "      <td>1591</td>\n",
       "    </tr>\n",
       "    <tr>\n",
       "      <th>4</th>\n",
       "      <td>36-45</td>\n",
       "      <td>&lt;=50k</td>\n",
       "      <td>5230</td>\n",
       "    </tr>\n",
       "    <tr>\n",
       "      <th>5</th>\n",
       "      <td>36-45</td>\n",
       "      <td>&gt;50k</td>\n",
       "      <td>2771</td>\n",
       "    </tr>\n",
       "    <tr>\n",
       "      <th>6</th>\n",
       "      <td>46-60</td>\n",
       "      <td>&lt;=50k</td>\n",
       "      <td>4479</td>\n",
       "    </tr>\n",
       "    <tr>\n",
       "      <th>7</th>\n",
       "      <td>46-60</td>\n",
       "      <td>&gt;50k</td>\n",
       "      <td>2809</td>\n",
       "    </tr>\n",
       "    <tr>\n",
       "      <th>8</th>\n",
       "      <td>61-75</td>\n",
       "      <td>&lt;=50k</td>\n",
       "      <td>1580</td>\n",
       "    </tr>\n",
       "    <tr>\n",
       "      <th>9</th>\n",
       "      <td>61-75</td>\n",
       "      <td>&gt;50k</td>\n",
       "      <td>511</td>\n",
       "    </tr>\n",
       "    <tr>\n",
       "      <th>10</th>\n",
       "      <td>76+</td>\n",
       "      <td>&lt;=50k</td>\n",
       "      <td>200</td>\n",
       "    </tr>\n",
       "    <tr>\n",
       "      <th>11</th>\n",
       "      <td>76+</td>\n",
       "      <td>&gt;50k</td>\n",
       "      <td>40</td>\n",
       "    </tr>\n",
       "    <tr>\n",
       "      <th>12</th>\n",
       "      <td>&lt;18</td>\n",
       "      <td>&lt;=50k</td>\n",
       "      <td>945</td>\n",
       "    </tr>\n",
       "  </tbody>\n",
       "</table>\n",
       "</div>"
      ],
      "text/plain": [
       "   age_group income  total_by_age\n",
       "0      18-25  <=50k          5334\n",
       "1      18-25   >50k           114\n",
       "2      26-35  <=50k          6910\n",
       "3      26-35   >50k          1591\n",
       "4      36-45  <=50k          5230\n",
       "5      36-45   >50k          2771\n",
       "6      46-60  <=50k          4479\n",
       "7      46-60   >50k          2809\n",
       "8      61-75  <=50k          1580\n",
       "9      61-75   >50k           511\n",
       "10       76+  <=50k           200\n",
       "11       76+   >50k            40\n",
       "12       <18  <=50k           945"
      ]
     },
     "execution_count": 50,
     "metadata": {},
     "output_type": "execute_result"
    }
   ],
   "source": [
    "adult_df_income_age=adult_df.groupby(['age_group','income']).size().reset_index(name='total_by_age')\n",
    "adult_df_income_age"
   ]
  },
  {
   "cell_type": "code",
   "execution_count": 51,
   "id": "19993210-9de8-43a3-99e9-57923aac8d9b",
   "metadata": {},
   "outputs": [
    {
     "data": {
      "text/html": [
       "<div>\n",
       "<style scoped>\n",
       "    .dataframe tbody tr th:only-of-type {\n",
       "        vertical-align: middle;\n",
       "    }\n",
       "\n",
       "    .dataframe tbody tr th {\n",
       "        vertical-align: top;\n",
       "    }\n",
       "\n",
       "    .dataframe thead th {\n",
       "        text-align: right;\n",
       "    }\n",
       "</style>\n",
       "<table border=\"1\" class=\"dataframe\">\n",
       "  <thead>\n",
       "    <tr style=\"text-align: right;\">\n",
       "      <th></th>\n",
       "      <th>age_group</th>\n",
       "      <th>income</th>\n",
       "      <th>total_by_age</th>\n",
       "      <th>percentage</th>\n",
       "    </tr>\n",
       "  </thead>\n",
       "  <tbody>\n",
       "    <tr>\n",
       "      <th>0</th>\n",
       "      <td>18-25</td>\n",
       "      <td>&lt;=50k</td>\n",
       "      <td>5334</td>\n",
       "      <td>97.907489</td>\n",
       "    </tr>\n",
       "    <tr>\n",
       "      <th>1</th>\n",
       "      <td>18-25</td>\n",
       "      <td>&gt;50k</td>\n",
       "      <td>114</td>\n",
       "      <td>2.092511</td>\n",
       "    </tr>\n",
       "    <tr>\n",
       "      <th>2</th>\n",
       "      <td>26-35</td>\n",
       "      <td>&lt;=50k</td>\n",
       "      <td>6910</td>\n",
       "      <td>81.284555</td>\n",
       "    </tr>\n",
       "    <tr>\n",
       "      <th>3</th>\n",
       "      <td>26-35</td>\n",
       "      <td>&gt;50k</td>\n",
       "      <td>1591</td>\n",
       "      <td>18.715445</td>\n",
       "    </tr>\n",
       "    <tr>\n",
       "      <th>4</th>\n",
       "      <td>36-45</td>\n",
       "      <td>&lt;=50k</td>\n",
       "      <td>5230</td>\n",
       "      <td>65.366829</td>\n",
       "    </tr>\n",
       "    <tr>\n",
       "      <th>5</th>\n",
       "      <td>36-45</td>\n",
       "      <td>&gt;50k</td>\n",
       "      <td>2771</td>\n",
       "      <td>34.633171</td>\n",
       "    </tr>\n",
       "    <tr>\n",
       "      <th>6</th>\n",
       "      <td>46-60</td>\n",
       "      <td>&lt;=50k</td>\n",
       "      <td>4479</td>\n",
       "      <td>61.457190</td>\n",
       "    </tr>\n",
       "    <tr>\n",
       "      <th>7</th>\n",
       "      <td>46-60</td>\n",
       "      <td>&gt;50k</td>\n",
       "      <td>2809</td>\n",
       "      <td>38.542810</td>\n",
       "    </tr>\n",
       "    <tr>\n",
       "      <th>8</th>\n",
       "      <td>61-75</td>\n",
       "      <td>&lt;=50k</td>\n",
       "      <td>1580</td>\n",
       "      <td>75.561932</td>\n",
       "    </tr>\n",
       "    <tr>\n",
       "      <th>9</th>\n",
       "      <td>61-75</td>\n",
       "      <td>&gt;50k</td>\n",
       "      <td>511</td>\n",
       "      <td>24.438068</td>\n",
       "    </tr>\n",
       "    <tr>\n",
       "      <th>10</th>\n",
       "      <td>76+</td>\n",
       "      <td>&lt;=50k</td>\n",
       "      <td>200</td>\n",
       "      <td>83.333333</td>\n",
       "    </tr>\n",
       "    <tr>\n",
       "      <th>11</th>\n",
       "      <td>76+</td>\n",
       "      <td>&gt;50k</td>\n",
       "      <td>40</td>\n",
       "      <td>16.666667</td>\n",
       "    </tr>\n",
       "    <tr>\n",
       "      <th>12</th>\n",
       "      <td>&lt;18</td>\n",
       "      <td>&lt;=50k</td>\n",
       "      <td>945</td>\n",
       "      <td>100.000000</td>\n",
       "    </tr>\n",
       "  </tbody>\n",
       "</table>\n",
       "</div>"
      ],
      "text/plain": [
       "   age_group income  total_by_age  percentage\n",
       "0      18-25  <=50k          5334   97.907489\n",
       "1      18-25   >50k           114    2.092511\n",
       "2      26-35  <=50k          6910   81.284555\n",
       "3      26-35   >50k          1591   18.715445\n",
       "4      36-45  <=50k          5230   65.366829\n",
       "5      36-45   >50k          2771   34.633171\n",
       "6      46-60  <=50k          4479   61.457190\n",
       "7      46-60   >50k          2809   38.542810\n",
       "8      61-75  <=50k          1580   75.561932\n",
       "9      61-75   >50k           511   24.438068\n",
       "10       76+  <=50k           200   83.333333\n",
       "11       76+   >50k            40   16.666667\n",
       "12       <18  <=50k           945  100.000000"
      ]
     },
     "execution_count": 51,
     "metadata": {},
     "output_type": "execute_result"
    }
   ],
   "source": [
    "total_per_group=adult_df_income_age.groupby('age_group')['total_by_age'].transform('sum')\n",
    "adult_df_income_age['percentage']=(adult_df_income_age['total_by_age']/total_per_group)*100\n",
    "adult_df_income_age"
   ]
  },
  {
   "cell_type": "code",
   "execution_count": 69,
   "id": "547b399e-4cde-4de5-b78b-60035d141dc8",
   "metadata": {},
   "outputs": [
    {
     "data": {
      "application/vnd.plotly.v1+json": {
       "config": {
        "plotlyServerURL": "https://plot.ly"
       },
       "data": [
        {
         "alignmentgroup": "True",
         "hovertemplate": "income=<=50k<br>age_group=%{x}<br>percentage=%{text}<extra></extra>",
         "legendgroup": "<=50k",
         "marker": {
          "color": "cyan",
          "pattern": {
           "shape": ""
          }
         },
         "name": "<=50k",
         "offsetgroup": "<=50k",
         "orientation": "v",
         "showlegend": true,
         "text": {
          "_inputArray": {
           "0": 97.90748898678414,
           "1": 81.28455475826374,
           "2": 65.36682914635671,
           "3": 61.457189901207464,
           "4": 75.56193208990913,
           "5": 83.33333333333334,
           "6": 100,
           "bdata": "9e2vTBR6WEB+KiklNlJUQJa09CB6V1BAr9/cMoW6TkDkLgOy9uNSQFZVVVVV1VRAAAAAAAAAWUA=",
           "dtype": "f8",
           "shape": "7"
          },
          "bdata": "9e2vTBR6WEB+KiklNlJUQJa09CB6V1BAr9/cMoW6TkDkLgOy9uNSQFZVVVVV1VRAAAAAAAAAWUA=",
          "dtype": "f8"
         },
         "textposition": "outside",
         "texttemplate": "%{text:.2f}%",
         "type": "bar",
         "x": [
          "18-25",
          "26-35",
          "36-45",
          "46-60",
          "61-75",
          "76+",
          "<18"
         ],
         "xaxis": "x",
         "y": {
          "_inputArray": {
           "0": 97.90748898678414,
           "1": 81.28455475826374,
           "2": 65.36682914635671,
           "3": 61.457189901207464,
           "4": 75.56193208990913,
           "5": 83.33333333333334,
           "6": 100,
           "bdata": "9e2vTBR6WEB+KiklNlJUQJa09CB6V1BAr9/cMoW6TkDkLgOy9uNSQFZVVVVV1VRAAAAAAAAAWUA=",
           "dtype": "f8",
           "shape": "7"
          },
          "bdata": "9e2vTBR6WEB+KiklNlJUQJa09CB6V1BAr9/cMoW6TkDkLgOy9uNSQFZVVVVV1VRAAAAAAAAAWUA=",
          "dtype": "f8"
         },
         "yaxis": "y"
        },
        {
         "alignmentgroup": "True",
         "hovertemplate": "income=>50k<br>age_group=%{x}<br>percentage=%{text}<extra></extra>",
         "legendgroup": ">50k",
         "marker": {
          "color": "LightSeaGreen",
          "pattern": {
           "shape": ""
          }
         },
         "name": ">50k",
         "offsetgroup": ">50k",
         "orientation": "v",
         "showlegend": true,
         "text": {
          "_inputArray": {
           "0": 2.092511013215859,
           "1": 18.715445241736266,
           "2": 34.6331708536433,
           "3": 38.542810098792536,
           "4": 24.438067910090865,
           "5": 16.666666666666664,
           "bdata": "aUECana9AEAJVltrJ7cyQNWWFr4LUUFAUSAjzXpFQ0BwRPM3JXA4QKqqqqqqqjBA",
           "dtype": "f8",
           "shape": "6"
          },
          "bdata": "aUECana9AEAJVltrJ7cyQNWWFr4LUUFAUSAjzXpFQ0BwRPM3JXA4QKqqqqqqqjBA",
          "dtype": "f8"
         },
         "textposition": "outside",
         "texttemplate": "%{text:.2f}%",
         "type": "bar",
         "x": [
          "18-25",
          "26-35",
          "36-45",
          "46-60",
          "61-75",
          "76+"
         ],
         "xaxis": "x",
         "y": {
          "_inputArray": {
           "0": 2.092511013215859,
           "1": 18.715445241736266,
           "2": 34.6331708536433,
           "3": 38.542810098792536,
           "4": 24.438067910090865,
           "5": 16.666666666666664,
           "bdata": "aUECana9AEAJVltrJ7cyQNWWFr4LUUFAUSAjzXpFQ0BwRPM3JXA4QKqqqqqqqjBA",
           "dtype": "f8",
           "shape": "6"
          },
          "bdata": "aUECana9AEAJVltrJ7cyQNWWFr4LUUFAUSAjzXpFQ0BwRPM3JXA4QKqqqqqqqjBA",
          "dtype": "f8"
         },
         "yaxis": "y"
        }
       ],
       "layout": {
        "autosize": true,
        "barmode": "group",
        "legend": {
         "title": {
          "text": "Income Level"
         },
         "tracegroupgap": 0
        },
        "paper_bgcolor": "rgba(0, 0, 0, 0)",
        "plot_bgcolor": "rgba(0, 0, 0, 0)",
        "template": {
         "data": {
          "pie": [
           {
            "automargin": true,
            "type": "pie"
           }
          ],
          "scatter": [
           {
            "line": {
             "width": 3
            },
            "marker": {
             "size": 9
            },
            "type": "scatter"
           }
          ],
          "scatter3d": [
           {
            "line": {
             "width": 3
            },
            "marker": {
             "size": 9
            },
            "type": "scatter3d"
           }
          ],
          "scattergeo": [
           {
            "line": {
             "width": 3
            },
            "marker": {
             "size": 9
            },
            "type": "scattergeo"
           }
          ],
          "scattergl": [
           {
            "line": {
             "width": 3
            },
            "marker": {
             "size": 9
            },
            "type": "scattergl"
           }
          ],
          "scatterpolar": [
           {
            "line": {
             "width": 3
            },
            "marker": {
             "size": 9
            },
            "type": "scatterpolar"
           }
          ],
          "scatterpolargl": [
           {
            "line": {
             "width": 3
            },
            "marker": {
             "size": 9
            },
            "type": "scatterpolargl"
           }
          ],
          "scatterternary": [
           {
            "line": {
             "width": 3
            },
            "marker": {
             "size": 9
            },
            "type": "scatterternary"
           }
          ],
          "table": [
           {
            "cells": {
             "height": 30
            },
            "header": {
             "height": 36
            },
            "type": "table"
           }
          ]
         },
         "layout": {
          "font": {
           "size": 18
          },
          "xaxis": {
           "title": {
            "standoff": 15
           }
          },
          "yaxis": {
           "title": {
            "standoff": 15
           }
          }
         }
        },
        "title": {
         "text": "Income Distribution by Age Group"
        },
        "xaxis": {
         "anchor": "y",
         "autorange": true,
         "domain": [
          0,
          1
         ],
         "range": [
          -0.5,
          6.5
         ],
         "title": {
          "text": "Age Group"
         },
         "type": "category"
        },
        "yaxis": {
         "anchor": "x",
         "autorange": true,
         "domain": [
          0,
          1
         ],
         "range": [
          0,
          105.26315789473684
         ],
         "title": {
          "text": "Percentage of population"
         },
         "type": "linear"
        }
       }
      },
      "image/png": "[encoded data removed]"
     },
     "metadata": {},
     "output_type": "display_data"
    }
   ],
   "source": [
    "fig=px.bar(adult_df_income_age,\n",
    "           x='age_group',\n",
    "           y='percentage',\n",
    "           color='income',\n",
    "           title='Income Distribution by Age Group',\n",
    "           color_discrete_sequence=[\"cyan\",\"LightSeaGreen\"],\n",
    "           barmode='group',\n",
    "           text='percentage'\n",
    "           \n",
    "              \n",
    ")\n",
    "fig.update_layout(template=\"presentation\",\n",
    "                 xaxis_title='Age Group',\n",
    "                  yaxis_title='Percentage of population',\n",
    "                  legend_title=dict(text='Income Level'),\n",
    "                 paper_bgcolor=\"rgba(0,0,0,0)\",plot_bgcolor=(\"rgba(0,0,0,0)\"))\n",
    "fig.update_traces(texttemplate='%{text:.2f}%',textposition='outside') \n",
    "fig.show()\n",
    "fig.write_image(os.path.join(results_dir,'income_distribution-AgeGroup-bar_chart.jpg'))\n",
    "fig.write_image(os.path.join(results_dir,'income_distribution-AgeGroup_bar_chart.png'))\n",
    "fig.write_html(os.path.join(results_dir,'income_distribution-AgeGroup_bar_chart.html'))"
   ]
  },
  {
   "cell_type": "code",
   "execution_count": 53,
   "id": "d7f92d87-ac33-4aaa-912a-561228be298e",
   "metadata": {},
   "outputs": [
    {
     "data": {
      "text/html": [
       "<div>\n",
       "<style scoped>\n",
       "    .dataframe tbody tr th:only-of-type {\n",
       "        vertical-align: middle;\n",
       "    }\n",
       "\n",
       "    .dataframe tbody tr th {\n",
       "        vertical-align: top;\n",
       "    }\n",
       "\n",
       "    .dataframe thead th {\n",
       "        text-align: right;\n",
       "    }\n",
       "</style>\n",
       "<table border=\"1\" class=\"dataframe\">\n",
       "  <thead>\n",
       "    <tr style=\"text-align: right;\">\n",
       "      <th></th>\n",
       "      <th>native_region</th>\n",
       "      <th>income</th>\n",
       "      <th>total_by_region</th>\n",
       "    </tr>\n",
       "  </thead>\n",
       "  <tbody>\n",
       "    <tr>\n",
       "      <th>0</th>\n",
       "      <td>asia</td>\n",
       "      <td>&lt;=50k</td>\n",
       "      <td>465</td>\n",
       "    </tr>\n",
       "    <tr>\n",
       "      <th>1</th>\n",
       "      <td>asia</td>\n",
       "      <td>&gt;50k</td>\n",
       "      <td>206</td>\n",
       "    </tr>\n",
       "    <tr>\n",
       "      <th>2</th>\n",
       "      <td>central america</td>\n",
       "      <td>&lt;=50k</td>\n",
       "      <td>466</td>\n",
       "    </tr>\n",
       "    <tr>\n",
       "      <th>3</th>\n",
       "      <td>central america</td>\n",
       "      <td>&gt;50k</td>\n",
       "      <td>58</td>\n",
       "    </tr>\n",
       "    <tr>\n",
       "      <th>4</th>\n",
       "      <td>europe</td>\n",
       "      <td>&lt;=50k</td>\n",
       "      <td>369</td>\n",
       "    </tr>\n",
       "    <tr>\n",
       "      <th>5</th>\n",
       "      <td>europe</td>\n",
       "      <td>&gt;50k</td>\n",
       "      <td>152</td>\n",
       "    </tr>\n",
       "    <tr>\n",
       "      <th>6</th>\n",
       "      <td>north america</td>\n",
       "      <td>&lt;=50k</td>\n",
       "      <td>22769</td>\n",
       "    </tr>\n",
       "    <tr>\n",
       "      <th>7</th>\n",
       "      <td>north america</td>\n",
       "      <td>&gt;50k</td>\n",
       "      <td>7250</td>\n",
       "    </tr>\n",
       "    <tr>\n",
       "      <th>8</th>\n",
       "      <td>other</td>\n",
       "      <td>&lt;=50k</td>\n",
       "      <td>435</td>\n",
       "    </tr>\n",
       "    <tr>\n",
       "      <th>9</th>\n",
       "      <td>other</td>\n",
       "      <td>&gt;50k</td>\n",
       "      <td>146</td>\n",
       "    </tr>\n",
       "    <tr>\n",
       "      <th>10</th>\n",
       "      <td>south america</td>\n",
       "      <td>&lt;=50k</td>\n",
       "      <td>174</td>\n",
       "    </tr>\n",
       "    <tr>\n",
       "      <th>11</th>\n",
       "      <td>south america</td>\n",
       "      <td>&gt;50k</td>\n",
       "      <td>24</td>\n",
       "    </tr>\n",
       "  </tbody>\n",
       "</table>\n",
       "</div>"
      ],
      "text/plain": [
       "      native_region income  total_by_region\n",
       "0              asia  <=50k              465\n",
       "1              asia   >50k              206\n",
       "2   central america  <=50k              466\n",
       "3   central america   >50k               58\n",
       "4            europe  <=50k              369\n",
       "5            europe   >50k              152\n",
       "6     north america  <=50k            22769\n",
       "7     north america   >50k             7250\n",
       "8             other  <=50k              435\n",
       "9             other   >50k              146\n",
       "10    south america  <=50k              174\n",
       "11    south america   >50k               24"
      ]
     },
     "execution_count": 53,
     "metadata": {},
     "output_type": "execute_result"
    }
   ],
   "source": [
    "adult_df_income_native_region=adult_df.groupby(['native_region','income']).size().reset_index(name='total_by_region')\n",
    "adult_df_income_native_region"
   ]
  },
  {
   "cell_type": "code",
   "execution_count": 54,
   "id": "c5c17e1d-b462-466d-a5c6-95f708d0454a",
   "metadata": {},
   "outputs": [
    {
     "data": {
      "text/html": [
       "<div>\n",
       "<style scoped>\n",
       "    .dataframe tbody tr th:only-of-type {\n",
       "        vertical-align: middle;\n",
       "    }\n",
       "\n",
       "    .dataframe tbody tr th {\n",
       "        vertical-align: top;\n",
       "    }\n",
       "\n",
       "    .dataframe thead th {\n",
       "        text-align: right;\n",
       "    }\n",
       "</style>\n",
       "<table border=\"1\" class=\"dataframe\">\n",
       "  <thead>\n",
       "    <tr style=\"text-align: right;\">\n",
       "      <th></th>\n",
       "      <th>native_region</th>\n",
       "      <th>income</th>\n",
       "      <th>total_by_region</th>\n",
       "      <th>percentage</th>\n",
       "    </tr>\n",
       "  </thead>\n",
       "  <tbody>\n",
       "    <tr>\n",
       "      <th>0</th>\n",
       "      <td>asia</td>\n",
       "      <td>&lt;=50k</td>\n",
       "      <td>465</td>\n",
       "      <td>69.299553</td>\n",
       "    </tr>\n",
       "    <tr>\n",
       "      <th>1</th>\n",
       "      <td>asia</td>\n",
       "      <td>&gt;50k</td>\n",
       "      <td>206</td>\n",
       "      <td>30.700447</td>\n",
       "    </tr>\n",
       "    <tr>\n",
       "      <th>2</th>\n",
       "      <td>central america</td>\n",
       "      <td>&lt;=50k</td>\n",
       "      <td>466</td>\n",
       "      <td>88.931298</td>\n",
       "    </tr>\n",
       "    <tr>\n",
       "      <th>3</th>\n",
       "      <td>central america</td>\n",
       "      <td>&gt;50k</td>\n",
       "      <td>58</td>\n",
       "      <td>11.068702</td>\n",
       "    </tr>\n",
       "    <tr>\n",
       "      <th>4</th>\n",
       "      <td>europe</td>\n",
       "      <td>&lt;=50k</td>\n",
       "      <td>369</td>\n",
       "      <td>70.825336</td>\n",
       "    </tr>\n",
       "    <tr>\n",
       "      <th>5</th>\n",
       "      <td>europe</td>\n",
       "      <td>&gt;50k</td>\n",
       "      <td>152</td>\n",
       "      <td>29.174664</td>\n",
       "    </tr>\n",
       "    <tr>\n",
       "      <th>6</th>\n",
       "      <td>north america</td>\n",
       "      <td>&lt;=50k</td>\n",
       "      <td>22769</td>\n",
       "      <td>75.848629</td>\n",
       "    </tr>\n",
       "    <tr>\n",
       "      <th>7</th>\n",
       "      <td>north america</td>\n",
       "      <td>&gt;50k</td>\n",
       "      <td>7250</td>\n",
       "      <td>24.151371</td>\n",
       "    </tr>\n",
       "    <tr>\n",
       "      <th>8</th>\n",
       "      <td>other</td>\n",
       "      <td>&lt;=50k</td>\n",
       "      <td>435</td>\n",
       "      <td>74.870912</td>\n",
       "    </tr>\n",
       "    <tr>\n",
       "      <th>9</th>\n",
       "      <td>other</td>\n",
       "      <td>&gt;50k</td>\n",
       "      <td>146</td>\n",
       "      <td>25.129088</td>\n",
       "    </tr>\n",
       "    <tr>\n",
       "      <th>10</th>\n",
       "      <td>south america</td>\n",
       "      <td>&lt;=50k</td>\n",
       "      <td>174</td>\n",
       "      <td>87.878788</td>\n",
       "    </tr>\n",
       "    <tr>\n",
       "      <th>11</th>\n",
       "      <td>south america</td>\n",
       "      <td>&gt;50k</td>\n",
       "      <td>24</td>\n",
       "      <td>12.121212</td>\n",
       "    </tr>\n",
       "  </tbody>\n",
       "</table>\n",
       "</div>"
      ],
      "text/plain": [
       "      native_region income  total_by_region  percentage\n",
       "0              asia  <=50k              465   69.299553\n",
       "1              asia   >50k              206   30.700447\n",
       "2   central america  <=50k              466   88.931298\n",
       "3   central america   >50k               58   11.068702\n",
       "4            europe  <=50k              369   70.825336\n",
       "5            europe   >50k              152   29.174664\n",
       "6     north america  <=50k            22769   75.848629\n",
       "7     north america   >50k             7250   24.151371\n",
       "8             other  <=50k              435   74.870912\n",
       "9             other   >50k              146   25.129088\n",
       "10    south america  <=50k              174   87.878788\n",
       "11    south america   >50k               24   12.121212"
      ]
     },
     "execution_count": 54,
     "metadata": {},
     "output_type": "execute_result"
    }
   ],
   "source": [
    "total_per_region=adult_df_income_native_region.groupby('native_region')['total_by_region'].transform('sum')\n",
    "adult_df_income_native_region['percentage']=(adult_df_income_native_region['total_by_region']/total_per_region)*100\n",
    "adult_df_income_native_region"
   ]
  },
  {
   "cell_type": "code",
   "execution_count": 67,
   "id": "584e8a6e-3435-4549-a876-39d066ab2927",
   "metadata": {},
   "outputs": [
    {
     "data": {
      "application/vnd.plotly.v1+json": {
       "config": {
        "plotlyServerURL": "https://plot.ly"
       },
       "data": [
        {
         "alignmentgroup": "True",
         "hovertemplate": "income=<=50k<br>native_region=%{x}<br>percentage=%{text}<extra></extra>",
         "legendgroup": "<=50k",
         "marker": {
          "color": "cyan",
          "pattern": {
           "shape": ""
          }
         },
         "name": "<=50k",
         "offsetgroup": "<=50k",
         "orientation": "v",
         "showlegend": true,
         "text": {
          "_inputArray": {
           "0": 69.29955290611028,
           "1": 88.93129770992367,
           "2": 70.8253358925144,
           "3": 75.84862920150572,
           "4": 74.87091222030982,
           "5": 87.87878787878788,
           "bdata": "lsrz3ytTUUCPvbVhmjtWQB6kok3StFFAc7na8E/2UkC3+psGvbdSQPjggw8++FVA",
           "dtype": "f8",
           "shape": "6"
          },
          "bdata": "lsrz3ytTUUCPvbVhmjtWQB6kok3StFFAc7na8E/2UkC3+psGvbdSQPjggw8++FVA",
          "dtype": "f8"
         },
         "textposition": "outside",
         "texttemplate": "%{text:.2f}%",
         "type": "bar",
         "x": [
          "asia",
          "central america",
          "europe",
          "north america",
          "other",
          "south america"
         ],
         "xaxis": "x",
         "y": {
          "_inputArray": {
           "0": 69.29955290611028,
           "1": 88.93129770992367,
           "2": 70.8253358925144,
           "3": 75.84862920150572,
           "4": 74.87091222030982,
           "5": 87.87878787878788,
           "bdata": "lsrz3ytTUUCPvbVhmjtWQB6kok3StFFAc7na8E/2UkC3+psGvbdSQPjggw8++FVA",
           "dtype": "f8",
           "shape": "6"
          },
          "bdata": "lsrz3ytTUUCPvbVhmjtWQB6kok3StFFAc7na8E/2UkC3+psGvbdSQPjggw8++FVA",
          "dtype": "f8"
         },
         "yaxis": "y"
        },
        {
         "alignmentgroup": "True",
         "hovertemplate": "income=>50k<br>native_region=%{x}<br>percentage=%{text}<extra></extra>",
         "legendgroup": ">50k",
         "marker": {
          "color": "LightSeaGreen",
          "pattern": {
           "shape": ""
          }
         },
         "name": ">50k",
         "offsetgroup": ">50k",
         "orientation": "v",
         "showlegend": true,
         "text": {
          "_inputArray": {
           "0": 30.700447093889714,
           "1": 11.068702290076336,
           "2": 29.174664107485604,
           "3": 24.151370798494288,
           "4": 25.12908777969019,
           "5": 12.121212121212121,
           "bdata": "ptUwgFCzPkCLE1LyLCMmQIpvdcm2LD1ANRqVPMAmOEAnFZDlCyE5QD744IMPPihA",
           "dtype": "f8",
           "shape": "6"
          },
          "bdata": "ptUwgFCzPkCLE1LyLCMmQIpvdcm2LD1ANRqVPMAmOEAnFZDlCyE5QD744IMPPihA",
          "dtype": "f8"
         },
         "textposition": "outside",
         "texttemplate": "%{text:.2f}%",
         "type": "bar",
         "x": [
          "asia",
          "central america",
          "europe",
          "north america",
          "other",
          "south america"
         ],
         "xaxis": "x",
         "y": {
          "_inputArray": {
           "0": 30.700447093889714,
           "1": 11.068702290076336,
           "2": 29.174664107485604,
           "3": 24.151370798494288,
           "4": 25.12908777969019,
           "5": 12.121212121212121,
           "bdata": "ptUwgFCzPkCLE1LyLCMmQIpvdcm2LD1ANRqVPMAmOEAnFZDlCyE5QD744IMPPihA",
           "dtype": "f8",
           "shape": "6"
          },
          "bdata": "ptUwgFCzPkCLE1LyLCMmQIpvdcm2LD1ANRqVPMAmOEAnFZDlCyE5QD744IMPPihA",
          "dtype": "f8"
         },
         "yaxis": "y"
        }
       ],
       "layout": {
        "barmode": "group",
        "height": 500,
        "legend": {
         "title": {
          "text": "Income Level"
         },
         "tracegroupgap": 0
        },
        "paper_bgcolor": "rgba(0, 0, 0, 0)",
        "plot_bgcolor": "rgba(0, 0, 0, 0)",
        "template": {
         "data": {
          "pie": [
           {
            "automargin": true,
            "type": "pie"
           }
          ],
          "scatter": [
           {
            "line": {
             "width": 3
            },
            "marker": {
             "size": 9
            },
            "type": "scatter"
           }
          ],
          "scatter3d": [
           {
            "line": {
             "width": 3
            },
            "marker": {
             "size": 9
            },
            "type": "scatter3d"
           }
          ],
          "scattergeo": [
           {
            "line": {
             "width": 3
            },
            "marker": {
             "size": 9
            },
            "type": "scattergeo"
           }
          ],
          "scattergl": [
           {
            "line": {
             "width": 3
            },
            "marker": {
             "size": 9
            },
            "type": "scattergl"
           }
          ],
          "scatterpolar": [
           {
            "line": {
             "width": 3
            },
            "marker": {
             "size": 9
            },
            "type": "scatterpolar"
           }
          ],
          "scatterpolargl": [
           {
            "line": {
             "width": 3
            },
            "marker": {
             "size": 9
            },
            "type": "scatterpolargl"
           }
          ],
          "scatterternary": [
           {
            "line": {
             "width": 3
            },
            "marker": {
             "size": 9
            },
            "type": "scatterternary"
           }
          ],
          "table": [
           {
            "cells": {
             "height": 30
            },
            "header": {
             "height": 36
            },
            "type": "table"
           }
          ]
         },
         "layout": {
          "font": {
           "size": 18
          },
          "xaxis": {
           "title": {
            "standoff": 15
           }
          },
          "yaxis": {
           "title": {
            "standoff": 15
           }
          }
         }
        },
        "title": {
         "text": "Income Distribution by native region(%)"
        },
        "width": 700,
        "xaxis": {
         "anchor": "y",
         "autorange": true,
         "domain": [
          0,
          1
         ],
         "range": [
          -0.5,
          5.5
         ],
         "title": {
          "text": "Native Region"
         },
         "type": "category"
        },
        "yaxis": {
         "anchor": "x",
         "autorange": true,
         "domain": [
          0,
          1
         ],
         "range": [
          0,
          93.61189232623545
         ],
         "title": {
          "text": "Percentage of population"
         },
         "type": "linear"
        }
       }
      },
      "image/png": "[encoded data removed]"
     },
     "metadata": {},
     "output_type": "display_data"
    }
   ],
   "source": [
    "fig=px.bar(adult_df_income_native_region,\n",
    "           x='native_region',\n",
    "           y='percentage',\n",
    "           color='income',\n",
    "           title='Income Distribution by native region(%)',\n",
    "           color_discrete_sequence=[\"cyan\",\"LightSeaGreen\"],\n",
    "           barmode='group',\n",
    "           text='percentage',\n",
    "           width=700,\n",
    "           height=500\n",
    "           \n",
    "              \n",
    ")\n",
    "fig.update_layout(template=\"presentation\",\n",
    "                 xaxis_title='Native Region',\n",
    "                  yaxis_title='Percentage of population',\n",
    "                  legend_title=dict(text='Income Level'),\n",
    "                 paper_bgcolor=\"rgba(0,0,0,0)\",plot_bgcolor=(\"rgba(0,0,0,0)\"))\n",
    "fig.update_traces(texttemplate='%{text:.2f}%',textposition='outside') \n",
    "fig.show()\n",
    "fig.write_image(os.path.join(results_dir,'income_distribution_NativeRegion_bar_chart.jpg'))\n",
    "fig.write_image(os.path.join(results_dir,'income_distribution_NativeRegion_bar_chart.png'))\n",
    "fig.write_html(os.path.join(results_dir,'income_distribution_NativeRegion_bar_chart.html'))"
   ]
  },
  {
   "cell_type": "code",
   "execution_count": 63,
   "id": "453bcc94-cd42-41fb-baaa-895623f0ab2d",
   "metadata": {},
   "outputs": [
    {
     "data": {
      "text/html": [
       "<div>\n",
       "<style scoped>\n",
       "    .dataframe tbody tr th:only-of-type {\n",
       "        vertical-align: middle;\n",
       "    }\n",
       "\n",
       "    .dataframe tbody tr th {\n",
       "        vertical-align: top;\n",
       "    }\n",
       "\n",
       "    .dataframe thead th {\n",
       "        text-align: right;\n",
       "    }\n",
       "</style>\n",
       "<table border=\"1\" class=\"dataframe\">\n",
       "  <thead>\n",
       "    <tr style=\"text-align: right;\">\n",
       "      <th></th>\n",
       "      <th>race</th>\n",
       "      <th>income</th>\n",
       "      <th>total_by_race</th>\n",
       "    </tr>\n",
       "  </thead>\n",
       "  <tbody>\n",
       "    <tr>\n",
       "      <th>0</th>\n",
       "      <td>amer-indian-eskimo</td>\n",
       "      <td>&lt;=50k</td>\n",
       "      <td>275</td>\n",
       "    </tr>\n",
       "    <tr>\n",
       "      <th>1</th>\n",
       "      <td>amer-indian-eskimo</td>\n",
       "      <td>&gt;50k</td>\n",
       "      <td>36</td>\n",
       "    </tr>\n",
       "    <tr>\n",
       "      <th>2</th>\n",
       "      <td>asian-pac-islander</td>\n",
       "      <td>&lt;=50k</td>\n",
       "      <td>762</td>\n",
       "    </tr>\n",
       "    <tr>\n",
       "      <th>3</th>\n",
       "      <td>asian-pac-islander</td>\n",
       "      <td>&gt;50k</td>\n",
       "      <td>276</td>\n",
       "    </tr>\n",
       "    <tr>\n",
       "      <th>4</th>\n",
       "      <td>black</td>\n",
       "      <td>&lt;=50k</td>\n",
       "      <td>2735</td>\n",
       "    </tr>\n",
       "    <tr>\n",
       "      <th>5</th>\n",
       "      <td>black</td>\n",
       "      <td>&gt;50k</td>\n",
       "      <td>387</td>\n",
       "    </tr>\n",
       "    <tr>\n",
       "      <th>6</th>\n",
       "      <td>other</td>\n",
       "      <td>&lt;=50k</td>\n",
       "      <td>246</td>\n",
       "    </tr>\n",
       "    <tr>\n",
       "      <th>7</th>\n",
       "      <td>other</td>\n",
       "      <td>&gt;50k</td>\n",
       "      <td>25</td>\n",
       "    </tr>\n",
       "    <tr>\n",
       "      <th>8</th>\n",
       "      <td>white</td>\n",
       "      <td>&lt;=50k</td>\n",
       "      <td>20660</td>\n",
       "    </tr>\n",
       "    <tr>\n",
       "      <th>9</th>\n",
       "      <td>white</td>\n",
       "      <td>&gt;50k</td>\n",
       "      <td>7112</td>\n",
       "    </tr>\n",
       "  </tbody>\n",
       "</table>\n",
       "</div>"
      ],
      "text/plain": [
       "                 race income  total_by_race\n",
       "0  amer-indian-eskimo  <=50k            275\n",
       "1  amer-indian-eskimo   >50k             36\n",
       "2  asian-pac-islander  <=50k            762\n",
       "3  asian-pac-islander   >50k            276\n",
       "4               black  <=50k           2735\n",
       "5               black   >50k            387\n",
       "6               other  <=50k            246\n",
       "7               other   >50k             25\n",
       "8               white  <=50k          20660\n",
       "9               white   >50k           7112"
      ]
     },
     "execution_count": 63,
     "metadata": {},
     "output_type": "execute_result"
    }
   ],
   "source": [
    "adult_df_income_race=adult_df.groupby(['race','income']).size().reset_index(name='total_by_race')\n",
    "adult_df_income_race"
   ]
  },
  {
   "cell_type": "code",
   "execution_count": 64,
   "id": "2e939f4c-f541-4ffa-ae6b-9d65c1514038",
   "metadata": {},
   "outputs": [
    {
     "data": {
      "text/html": [
       "<div>\n",
       "<style scoped>\n",
       "    .dataframe tbody tr th:only-of-type {\n",
       "        vertical-align: middle;\n",
       "    }\n",
       "\n",
       "    .dataframe tbody tr th {\n",
       "        vertical-align: top;\n",
       "    }\n",
       "\n",
       "    .dataframe thead th {\n",
       "        text-align: right;\n",
       "    }\n",
       "</style>\n",
       "<table border=\"1\" class=\"dataframe\">\n",
       "  <thead>\n",
       "    <tr style=\"text-align: right;\">\n",
       "      <th></th>\n",
       "      <th>race</th>\n",
       "      <th>income</th>\n",
       "      <th>total_by_race</th>\n",
       "      <th>percentage</th>\n",
       "    </tr>\n",
       "  </thead>\n",
       "  <tbody>\n",
       "    <tr>\n",
       "      <th>0</th>\n",
       "      <td>amer-indian-eskimo</td>\n",
       "      <td>&lt;=50k</td>\n",
       "      <td>275</td>\n",
       "      <td>88.424437</td>\n",
       "    </tr>\n",
       "    <tr>\n",
       "      <th>1</th>\n",
       "      <td>amer-indian-eskimo</td>\n",
       "      <td>&gt;50k</td>\n",
       "      <td>36</td>\n",
       "      <td>11.575563</td>\n",
       "    </tr>\n",
       "    <tr>\n",
       "      <th>2</th>\n",
       "      <td>asian-pac-islander</td>\n",
       "      <td>&lt;=50k</td>\n",
       "      <td>762</td>\n",
       "      <td>73.410405</td>\n",
       "    </tr>\n",
       "    <tr>\n",
       "      <th>3</th>\n",
       "      <td>asian-pac-islander</td>\n",
       "      <td>&gt;50k</td>\n",
       "      <td>276</td>\n",
       "      <td>26.589595</td>\n",
       "    </tr>\n",
       "    <tr>\n",
       "      <th>4</th>\n",
       "      <td>black</td>\n",
       "      <td>&lt;=50k</td>\n",
       "      <td>2735</td>\n",
       "      <td>87.604100</td>\n",
       "    </tr>\n",
       "    <tr>\n",
       "      <th>5</th>\n",
       "      <td>black</td>\n",
       "      <td>&gt;50k</td>\n",
       "      <td>387</td>\n",
       "      <td>12.395900</td>\n",
       "    </tr>\n",
       "    <tr>\n",
       "      <th>6</th>\n",
       "      <td>other</td>\n",
       "      <td>&lt;=50k</td>\n",
       "      <td>246</td>\n",
       "      <td>90.774908</td>\n",
       "    </tr>\n",
       "    <tr>\n",
       "      <th>7</th>\n",
       "      <td>other</td>\n",
       "      <td>&gt;50k</td>\n",
       "      <td>25</td>\n",
       "      <td>9.225092</td>\n",
       "    </tr>\n",
       "    <tr>\n",
       "      <th>8</th>\n",
       "      <td>white</td>\n",
       "      <td>&lt;=50k</td>\n",
       "      <td>20660</td>\n",
       "      <td>74.391473</td>\n",
       "    </tr>\n",
       "    <tr>\n",
       "      <th>9</th>\n",
       "      <td>white</td>\n",
       "      <td>&gt;50k</td>\n",
       "      <td>7112</td>\n",
       "      <td>25.608527</td>\n",
       "    </tr>\n",
       "  </tbody>\n",
       "</table>\n",
       "</div>"
      ],
      "text/plain": [
       "                 race income  total_by_race  percentage\n",
       "0  amer-indian-eskimo  <=50k            275   88.424437\n",
       "1  amer-indian-eskimo   >50k             36   11.575563\n",
       "2  asian-pac-islander  <=50k            762   73.410405\n",
       "3  asian-pac-islander   >50k            276   26.589595\n",
       "4               black  <=50k           2735   87.604100\n",
       "5               black   >50k            387   12.395900\n",
       "6               other  <=50k            246   90.774908\n",
       "7               other   >50k             25    9.225092\n",
       "8               white  <=50k          20660   74.391473\n",
       "9               white   >50k           7112   25.608527"
      ]
     },
     "execution_count": 64,
     "metadata": {},
     "output_type": "execute_result"
    }
   ],
   "source": [
    "total_per_race=adult_df_income_race.groupby('race')['total_by_race'].transform('sum')\n",
    "adult_df_income_race['percentage']=(adult_df_income_race['total_by_race']/total_per_race)*100\n",
    "adult_df_income_race"
   ]
  },
  {
   "cell_type": "code",
   "execution_count": 66,
   "id": "92c4df63-3269-4211-bdb1-8a4646c402a0",
   "metadata": {},
   "outputs": [
    {
     "data": {
      "application/vnd.plotly.v1+json": {
       "config": {
        "plotlyServerURL": "https://plot.ly"
       },
       "data": [
        {
         "alignmentgroup": "True",
         "hovertemplate": "income=<=50k<br>race=%{x}<br>percentage=%{text}<extra></extra>",
         "legendgroup": "<=50k",
         "marker": {
          "color": "cyan",
          "pattern": {
           "shape": ""
          }
         },
         "name": "<=50k",
         "offsetgroup": "<=50k",
         "orientation": "v",
         "showlegend": true,
         "text": {
          "_inputArray": {
           "0": 88.42443729903538,
           "1": 73.41040462427746,
           "2": 87.6040999359385,
           "3": 90.7749077490775,
           "4": 74.39147342647271,
           "bdata": "z6MP+ykbVkCH2cERRFpSQMgXx5Kp5lVAHO2rFpixVkAE/Y7mDZlSQA==",
           "dtype": "f8",
           "shape": "5"
          },
          "bdata": "z6MP+ykbVkCH2cERRFpSQMgXx5Kp5lVAHO2rFpixVkAE/Y7mDZlSQA==",
          "dtype": "f8"
         },
         "textposition": "outside",
         "texttemplate": "%{text:.2f}%",
         "type": "bar",
         "x": [
          "amer-indian-eskimo",
          "asian-pac-islander",
          "black",
          "other",
          "white"
         ],
         "xaxis": "x",
         "y": {
          "_inputArray": {
           "0": 88.42443729903538,
           "1": 73.41040462427746,
           "2": 87.6040999359385,
           "3": 90.7749077490775,
           "4": 74.39147342647271,
           "bdata": "z6MP+ykbVkCH2cERRFpSQMgXx5Kp5lVAHO2rFpixVkAE/Y7mDZlSQA==",
           "dtype": "f8",
           "shape": "5"
          },
          "bdata": "z6MP+ykbVkCH2cERRFpSQMgXx5Kp5lVAHO2rFpixVkAE/Y7mDZlSQA==",
          "dtype": "f8"
         },
         "yaxis": "y"
        },
        {
         "alignmentgroup": "True",
         "hovertemplate": "income=>50k<br>race=%{x}<br>percentage=%{text}<extra></extra>",
         "legendgroup": ">50k",
         "marker": {
          "color": "LightSeaGreen",
          "pattern": {
           "shape": ""
          }
         },
         "name": ">50k",
         "offsetgroup": ">50k",
         "orientation": "v",
         "showlegend": true,
         "text": {
          "_inputArray": {
           "0": 11.57556270096463,
           "1": 26.589595375722542,
           "2": 12.395900064061498,
           "3": 9.22509225092251,
           "4": 25.608526573527296,
           "bdata": "i+GCJ7AmJ0Dlmfi475Y6QMNBx2mzyihAJZegSj9zIkDzC8RlyJs5QA==",
           "dtype": "f8",
           "shape": "5"
          },
          "bdata": "i+GCJ7AmJ0Dlmfi475Y6QMNBx2mzyihAJZegSj9zIkDzC8RlyJs5QA==",
          "dtype": "f8"
         },
         "textposition": "outside",
         "texttemplate": "%{text:.2f}%",
         "type": "bar",
         "x": [
          "amer-indian-eskimo",
          "asian-pac-islander",
          "black",
          "other",
          "white"
         ],
         "xaxis": "x",
         "y": {
          "_inputArray": {
           "0": 11.57556270096463,
           "1": 26.589595375722542,
           "2": 12.395900064061498,
           "3": 9.22509225092251,
           "4": 25.608526573527296,
           "bdata": "i+GCJ7AmJ0Dlmfi475Y6QMNBx2mzyihAJZegSj9zIkDzC8RlyJs5QA==",
           "dtype": "f8",
           "shape": "5"
          },
          "bdata": "i+GCJ7AmJ0Dlmfi475Y6QMNBx2mzyihAJZegSj9zIkDzC8RlyJs5QA==",
          "dtype": "f8"
         },
         "yaxis": "y"
        }
       ],
       "layout": {
        "autosize": true,
        "barmode": "group",
        "legend": {
         "title": {
          "text": "Income Level"
         },
         "tracegroupgap": 0
        },
        "paper_bgcolor": "rgba(0, 0, 0, 0)",
        "plot_bgcolor": "rgba(0, 0, 0, 0)",
        "template": {
         "data": {
          "pie": [
           {
            "automargin": true,
            "type": "pie"
           }
          ],
          "scatter": [
           {
            "line": {
             "width": 3
            },
            "marker": {
             "size": 9
            },
            "type": "scatter"
           }
          ],
          "scatter3d": [
           {
            "line": {
             "width": 3
            },
            "marker": {
             "size": 9
            },
            "type": "scatter3d"
           }
          ],
          "scattergeo": [
           {
            "line": {
             "width": 3
            },
            "marker": {
             "size": 9
            },
            "type": "scattergeo"
           }
          ],
          "scattergl": [
           {
            "line": {
             "width": 3
            },
            "marker": {
             "size": 9
            },
            "type": "scattergl"
           }
          ],
          "scatterpolar": [
           {
            "line": {
             "width": 3
            },
            "marker": {
             "size": 9
            },
            "type": "scatterpolar"
           }
          ],
          "scatterpolargl": [
           {
            "line": {
             "width": 3
            },
            "marker": {
             "size": 9
            },
            "type": "scatterpolargl"
           }
          ],
          "scatterternary": [
           {
            "line": {
             "width": 3
            },
            "marker": {
             "size": 9
            },
            "type": "scatterternary"
           }
          ],
          "table": [
           {
            "cells": {
             "height": 30
            },
            "header": {
             "height": 36
            },
            "type": "table"
           }
          ]
         },
         "layout": {
          "font": {
           "size": 18
          },
          "xaxis": {
           "title": {
            "standoff": 15
           }
          },
          "yaxis": {
           "title": {
            "standoff": 15
           }
          }
         }
        },
        "title": {
         "text": "Income Distribution by Race"
        },
        "xaxis": {
         "anchor": "y",
         "autorange": true,
         "domain": [
          0,
          1
         ],
         "range": [
          -0.5,
          4.5
         ],
         "title": {
          "text": "Race"
         },
         "type": "category"
        },
        "yaxis": {
         "anchor": "x",
         "autorange": true,
         "domain": [
          0,
          1
         ],
         "range": [
          0,
          95.55253447271316
         ],
         "title": {
          "text": "Percentage of population"
         },
         "type": "linear"
        }
       }
      },
      "image/png": "[encoded data removed]"
     },
     "metadata": {},
     "output_type": "display_data"
    }
   ],
   "source": [
    "fig=px.bar(adult_df_income_race,\n",
    "           x='race',\n",
    "           y='percentage',\n",
    "           color='income',\n",
    "           title='Income Distribution by Race',\n",
    "           color_discrete_sequence=[\"cyan\",\"LightSeaGreen\"],\n",
    "           barmode='group',\n",
    "           text='percentage'\n",
    "           \n",
    "              \n",
    ")\n",
    "fig.update_layout(template=\"presentation\",\n",
    "                 xaxis_title='Race',\n",
    "                  yaxis_title='Percentage of population',\n",
    "                  legend_title=dict(text='Income Level'),\n",
    "                 paper_bgcolor=\"rgba(0,0,0,0)\",plot_bgcolor=(\"rgba(0,0,0,0)\"))\n",
    "fig.update_traces(texttemplate='%{text:.2f}%',textposition='outside')\n",
    "fig.show()\n",
    "fig.write_image(os.path.join(results_dir,'income_distribution-Race-bar_chart.jpg'))\n",
    "fig.write_image(os.path.join(results_dir,'income_distribution-Race_bar_chart.png'))\n",
    "fig.write_html(os.path.join(results_dir,'income_distribution-Race_bar_chart.html'))"
   ]
  },
  {
   "cell_type": "code",
   "execution_count": 57,
   "id": "7ee39e60-cfbc-4b7b-8910-1fe2403d08c3",
   "metadata": {},
   "outputs": [
    {
     "data": {
      "text/html": [
       "<div>\n",
       "<style scoped>\n",
       "    .dataframe tbody tr th:only-of-type {\n",
       "        vertical-align: middle;\n",
       "    }\n",
       "\n",
       "    .dataframe tbody tr th {\n",
       "        vertical-align: top;\n",
       "    }\n",
       "\n",
       "    .dataframe thead th {\n",
       "        text-align: right;\n",
       "    }\n",
       "</style>\n",
       "<table border=\"1\" class=\"dataframe\">\n",
       "  <thead>\n",
       "    <tr style=\"text-align: right;\">\n",
       "      <th></th>\n",
       "      <th>education_level</th>\n",
       "      <th>occupation_grouped</th>\n",
       "      <th>income</th>\n",
       "      <th>total</th>\n",
       "    </tr>\n",
       "  </thead>\n",
       "  <tbody>\n",
       "    <tr>\n",
       "      <th>29</th>\n",
       "      <td>secondary-school graduate</td>\n",
       "      <td>blue collar</td>\n",
       "      <td>&lt;=50k</td>\n",
       "      <td>3976</td>\n",
       "    </tr>\n",
       "    <tr>\n",
       "      <th>56</th>\n",
       "      <td>tertiary</td>\n",
       "      <td>white collar</td>\n",
       "      <td>&gt;50k</td>\n",
       "      <td>3545</td>\n",
       "    </tr>\n",
       "    <tr>\n",
       "      <th>55</th>\n",
       "      <td>tertiary</td>\n",
       "      <td>white collar</td>\n",
       "      <td>&lt;=50k</td>\n",
       "      <td>3369</td>\n",
       "    </tr>\n",
       "    <tr>\n",
       "      <th>45</th>\n",
       "      <td>some college</td>\n",
       "      <td>white collar</td>\n",
       "      <td>&lt;=50k</td>\n",
       "      <td>3004</td>\n",
       "    </tr>\n",
       "    <tr>\n",
       "      <th>36</th>\n",
       "      <td>secondary-school graduate</td>\n",
       "      <td>white collar</td>\n",
       "      <td>&lt;=50k</td>\n",
       "      <td>2900</td>\n",
       "    </tr>\n",
       "    <tr>\n",
       "      <th>38</th>\n",
       "      <td>some college</td>\n",
       "      <td>blue collar</td>\n",
       "      <td>&lt;=50k</td>\n",
       "      <td>1503</td>\n",
       "    </tr>\n",
       "    <tr>\n",
       "      <th>32</th>\n",
       "      <td>secondary-school graduate</td>\n",
       "      <td>service</td>\n",
       "      <td>&lt;=50k</td>\n",
       "      <td>1444</td>\n",
       "    </tr>\n",
       "    <tr>\n",
       "      <th>20</th>\n",
       "      <td>secondary school</td>\n",
       "      <td>blue collar</td>\n",
       "      <td>&lt;=50k</td>\n",
       "      <td>1349</td>\n",
       "    </tr>\n",
       "    <tr>\n",
       "      <th>6</th>\n",
       "      <td>associate</td>\n",
       "      <td>white collar</td>\n",
       "      <td>&lt;=50k</td>\n",
       "      <td>1015</td>\n",
       "    </tr>\n",
       "    <tr>\n",
       "      <th>41</th>\n",
       "      <td>some college</td>\n",
       "      <td>service</td>\n",
       "      <td>&lt;=50k</td>\n",
       "      <td>902</td>\n",
       "    </tr>\n",
       "    <tr>\n",
       "      <th>46</th>\n",
       "      <td>some college</td>\n",
       "      <td>white collar</td>\n",
       "      <td>&gt;50k</td>\n",
       "      <td>858</td>\n",
       "    </tr>\n",
       "    <tr>\n",
       "      <th>30</th>\n",
       "      <td>secondary-school graduate</td>\n",
       "      <td>blue collar</td>\n",
       "      <td>&gt;50k</td>\n",
       "      <td>796</td>\n",
       "    </tr>\n",
       "    <tr>\n",
       "      <th>37</th>\n",
       "      <td>secondary-school graduate</td>\n",
       "      <td>white collar</td>\n",
       "      <td>&gt;50k</td>\n",
       "      <td>731</td>\n",
       "    </tr>\n",
       "    <tr>\n",
       "      <th>23</th>\n",
       "      <td>secondary school</td>\n",
       "      <td>service</td>\n",
       "      <td>&lt;=50k</td>\n",
       "      <td>663</td>\n",
       "    </tr>\n",
       "    <tr>\n",
       "      <th>12</th>\n",
       "      <td>primary</td>\n",
       "      <td>blue collar</td>\n",
       "      <td>&lt;=50k</td>\n",
       "      <td>634</td>\n",
       "    </tr>\n",
       "    <tr>\n",
       "      <th>27</th>\n",
       "      <td>secondary school</td>\n",
       "      <td>white collar</td>\n",
       "      <td>&lt;=50k</td>\n",
       "      <td>552</td>\n",
       "    </tr>\n",
       "    <tr>\n",
       "      <th>34</th>\n",
       "      <td>secondary-school graduate</td>\n",
       "      <td>unknown</td>\n",
       "      <td>&lt;=50k</td>\n",
       "      <td>487</td>\n",
       "    </tr>\n",
       "    <tr>\n",
       "      <th>0</th>\n",
       "      <td>associate</td>\n",
       "      <td>blue collar</td>\n",
       "      <td>&lt;=50k</td>\n",
       "      <td>482</td>\n",
       "    </tr>\n",
       "    <tr>\n",
       "      <th>43</th>\n",
       "      <td>some college</td>\n",
       "      <td>unknown</td>\n",
       "      <td>&lt;=50k</td>\n",
       "      <td>481</td>\n",
       "    </tr>\n",
       "    <tr>\n",
       "      <th>39</th>\n",
       "      <td>some college</td>\n",
       "      <td>blue collar</td>\n",
       "      <td>&gt;50k</td>\n",
       "      <td>397</td>\n",
       "    </tr>\n",
       "    <tr>\n",
       "      <th>7</th>\n",
       "      <td>associate</td>\n",
       "      <td>white collar</td>\n",
       "      <td>&gt;50k</td>\n",
       "      <td>397</td>\n",
       "    </tr>\n",
       "    <tr>\n",
       "      <th>47</th>\n",
       "      <td>tertiary</td>\n",
       "      <td>blue collar</td>\n",
       "      <td>&lt;=50k</td>\n",
       "      <td>375</td>\n",
       "    </tr>\n",
       "    <tr>\n",
       "      <th>25</th>\n",
       "      <td>secondary school</td>\n",
       "      <td>unknown</td>\n",
       "      <td>&lt;=50k</td>\n",
       "      <td>307</td>\n",
       "    </tr>\n",
       "    <tr>\n",
       "      <th>14</th>\n",
       "      <td>primary</td>\n",
       "      <td>service</td>\n",
       "      <td>&lt;=50k</td>\n",
       "      <td>243</td>\n",
       "    </tr>\n",
       "    <tr>\n",
       "      <th>2</th>\n",
       "      <td>associate</td>\n",
       "      <td>service</td>\n",
       "      <td>&lt;=50k</td>\n",
       "      <td>237</td>\n",
       "    </tr>\n",
       "    <tr>\n",
       "      <th>51</th>\n",
       "      <td>tertiary</td>\n",
       "      <td>service</td>\n",
       "      <td>&lt;=50k</td>\n",
       "      <td>232</td>\n",
       "    </tr>\n",
       "    <tr>\n",
       "      <th>48</th>\n",
       "      <td>tertiary</td>\n",
       "      <td>blue collar</td>\n",
       "      <td>&gt;50k</td>\n",
       "      <td>183</td>\n",
       "    </tr>\n",
       "    <tr>\n",
       "      <th>53</th>\n",
       "      <td>tertiary</td>\n",
       "      <td>unknown</td>\n",
       "      <td>&lt;=50k</td>\n",
       "      <td>172</td>\n",
       "    </tr>\n",
       "    <tr>\n",
       "      <th>1</th>\n",
       "      <td>associate</td>\n",
       "      <td>blue collar</td>\n",
       "      <td>&gt;50k</td>\n",
       "      <td>166</td>\n",
       "    </tr>\n",
       "    <tr>\n",
       "      <th>21</th>\n",
       "      <td>secondary school</td>\n",
       "      <td>blue collar</td>\n",
       "      <td>&gt;50k</td>\n",
       "      <td>116</td>\n",
       "    </tr>\n",
       "    <tr>\n",
       "      <th>16</th>\n",
       "      <td>primary</td>\n",
       "      <td>unknown</td>\n",
       "      <td>&lt;=50k</td>\n",
       "      <td>111</td>\n",
       "    </tr>\n",
       "    <tr>\n",
       "      <th>33</th>\n",
       "      <td>secondary-school graduate</td>\n",
       "      <td>service</td>\n",
       "      <td>&gt;50k</td>\n",
       "      <td>100</td>\n",
       "    </tr>\n",
       "    <tr>\n",
       "      <th>52</th>\n",
       "      <td>tertiary</td>\n",
       "      <td>service</td>\n",
       "      <td>&gt;50k</td>\n",
       "      <td>97</td>\n",
       "    </tr>\n",
       "    <tr>\n",
       "      <th>42</th>\n",
       "      <td>some college</td>\n",
       "      <td>service</td>\n",
       "      <td>&gt;50k</td>\n",
       "      <td>95</td>\n",
       "    </tr>\n",
       "    <tr>\n",
       "      <th>18</th>\n",
       "      <td>primary</td>\n",
       "      <td>white collar</td>\n",
       "      <td>&lt;=50k</td>\n",
       "      <td>93</td>\n",
       "    </tr>\n",
       "    <tr>\n",
       "      <th>4</th>\n",
       "      <td>associate</td>\n",
       "      <td>unknown</td>\n",
       "      <td>&lt;=50k</td>\n",
       "      <td>89</td>\n",
       "    </tr>\n",
       "    <tr>\n",
       "      <th>54</th>\n",
       "      <td>tertiary</td>\n",
       "      <td>unknown</td>\n",
       "      <td>&gt;50k</td>\n",
       "      <td>82</td>\n",
       "    </tr>\n",
       "    <tr>\n",
       "      <th>28</th>\n",
       "      <td>secondary school</td>\n",
       "      <td>white collar</td>\n",
       "      <td>&gt;50k</td>\n",
       "      <td>49</td>\n",
       "    </tr>\n",
       "    <tr>\n",
       "      <th>35</th>\n",
       "      <td>secondary-school graduate</td>\n",
       "      <td>unknown</td>\n",
       "      <td>&gt;50k</td>\n",
       "      <td>46</td>\n",
       "    </tr>\n",
       "    <tr>\n",
       "      <th>3</th>\n",
       "      <td>associate</td>\n",
       "      <td>service</td>\n",
       "      <td>&gt;50k</td>\n",
       "      <td>44</td>\n",
       "    </tr>\n",
       "    <tr>\n",
       "      <th>13</th>\n",
       "      <td>primary</td>\n",
       "      <td>blue collar</td>\n",
       "      <td>&gt;50k</td>\n",
       "      <td>40</td>\n",
       "    </tr>\n",
       "    <tr>\n",
       "      <th>44</th>\n",
       "      <td>some college</td>\n",
       "      <td>unknown</td>\n",
       "      <td>&gt;50k</td>\n",
       "      <td>35</td>\n",
       "    </tr>\n",
       "    <tr>\n",
       "      <th>8</th>\n",
       "      <td>preschool</td>\n",
       "      <td>blue collar</td>\n",
       "      <td>&lt;=50k</td>\n",
       "      <td>25</td>\n",
       "    </tr>\n",
       "    <tr>\n",
       "      <th>5</th>\n",
       "      <td>associate</td>\n",
       "      <td>unknown</td>\n",
       "      <td>&gt;50k</td>\n",
       "      <td>19</td>\n",
       "    </tr>\n",
       "    <tr>\n",
       "      <th>9</th>\n",
       "      <td>preschool</td>\n",
       "      <td>service</td>\n",
       "      <td>&lt;=50k</td>\n",
       "      <td>17</td>\n",
       "    </tr>\n",
       "    <tr>\n",
       "      <th>19</th>\n",
       "      <td>primary</td>\n",
       "      <td>white collar</td>\n",
       "      <td>&gt;50k</td>\n",
       "      <td>17</td>\n",
       "    </tr>\n",
       "    <tr>\n",
       "      <th>24</th>\n",
       "      <td>secondary school</td>\n",
       "      <td>service</td>\n",
       "      <td>&gt;50k</td>\n",
       "      <td>12</td>\n",
       "    </tr>\n",
       "    <tr>\n",
       "      <th>10</th>\n",
       "      <td>preschool</td>\n",
       "      <td>unknown</td>\n",
       "      <td>&lt;=50k</td>\n",
       "      <td>5</td>\n",
       "    </tr>\n",
       "    <tr>\n",
       "      <th>26</th>\n",
       "      <td>secondary school</td>\n",
       "      <td>unknown</td>\n",
       "      <td>&gt;50k</td>\n",
       "      <td>5</td>\n",
       "    </tr>\n",
       "    <tr>\n",
       "      <th>17</th>\n",
       "      <td>primary</td>\n",
       "      <td>unknown</td>\n",
       "      <td>&gt;50k</td>\n",
       "      <td>4</td>\n",
       "    </tr>\n",
       "    <tr>\n",
       "      <th>31</th>\n",
       "      <td>secondary-school graduate</td>\n",
       "      <td>miltary</td>\n",
       "      <td>&lt;=50k</td>\n",
       "      <td>4</td>\n",
       "    </tr>\n",
       "    <tr>\n",
       "      <th>11</th>\n",
       "      <td>preschool</td>\n",
       "      <td>white collar</td>\n",
       "      <td>&lt;=50k</td>\n",
       "      <td>3</td>\n",
       "    </tr>\n",
       "    <tr>\n",
       "      <th>40</th>\n",
       "      <td>some college</td>\n",
       "      <td>miltary</td>\n",
       "      <td>&lt;=50k</td>\n",
       "      <td>2</td>\n",
       "    </tr>\n",
       "    <tr>\n",
       "      <th>49</th>\n",
       "      <td>tertiary</td>\n",
       "      <td>miltary</td>\n",
       "      <td>&lt;=50k</td>\n",
       "      <td>1</td>\n",
       "    </tr>\n",
       "    <tr>\n",
       "      <th>50</th>\n",
       "      <td>tertiary</td>\n",
       "      <td>miltary</td>\n",
       "      <td>&gt;50k</td>\n",
       "      <td>1</td>\n",
       "    </tr>\n",
       "    <tr>\n",
       "      <th>15</th>\n",
       "      <td>primary</td>\n",
       "      <td>service</td>\n",
       "      <td>&gt;50k</td>\n",
       "      <td>1</td>\n",
       "    </tr>\n",
       "    <tr>\n",
       "      <th>22</th>\n",
       "      <td>secondary school</td>\n",
       "      <td>miltary</td>\n",
       "      <td>&lt;=50k</td>\n",
       "      <td>1</td>\n",
       "    </tr>\n",
       "  </tbody>\n",
       "</table>\n",
       "</div>"
      ],
      "text/plain": [
       "              education_level occupation_grouped income  total\n",
       "29  secondary-school graduate        blue collar  <=50k   3976\n",
       "56                   tertiary       white collar   >50k   3545\n",
       "55                   tertiary       white collar  <=50k   3369\n",
       "45               some college       white collar  <=50k   3004\n",
       "36  secondary-school graduate       white collar  <=50k   2900\n",
       "38               some college        blue collar  <=50k   1503\n",
       "32  secondary-school graduate            service  <=50k   1444\n",
       "20           secondary school        blue collar  <=50k   1349\n",
       "6                   associate       white collar  <=50k   1015\n",
       "41               some college            service  <=50k    902\n",
       "46               some college       white collar   >50k    858\n",
       "30  secondary-school graduate        blue collar   >50k    796\n",
       "37  secondary-school graduate       white collar   >50k    731\n",
       "23           secondary school            service  <=50k    663\n",
       "12                    primary        blue collar  <=50k    634\n",
       "27           secondary school       white collar  <=50k    552\n",
       "34  secondary-school graduate            unknown  <=50k    487\n",
       "0                   associate        blue collar  <=50k    482\n",
       "43               some college            unknown  <=50k    481\n",
       "39               some college        blue collar   >50k    397\n",
       "7                   associate       white collar   >50k    397\n",
       "47                   tertiary        blue collar  <=50k    375\n",
       "25           secondary school            unknown  <=50k    307\n",
       "14                    primary            service  <=50k    243\n",
       "2                   associate            service  <=50k    237\n",
       "51                   tertiary            service  <=50k    232\n",
       "48                   tertiary        blue collar   >50k    183\n",
       "53                   tertiary            unknown  <=50k    172\n",
       "1                   associate        blue collar   >50k    166\n",
       "21           secondary school        blue collar   >50k    116\n",
       "16                    primary            unknown  <=50k    111\n",
       "33  secondary-school graduate            service   >50k    100\n",
       "52                   tertiary            service   >50k     97\n",
       "42               some college            service   >50k     95\n",
       "18                    primary       white collar  <=50k     93\n",
       "4                   associate            unknown  <=50k     89\n",
       "54                   tertiary            unknown   >50k     82\n",
       "28           secondary school       white collar   >50k     49\n",
       "35  secondary-school graduate            unknown   >50k     46\n",
       "3                   associate            service   >50k     44\n",
       "13                    primary        blue collar   >50k     40\n",
       "44               some college            unknown   >50k     35\n",
       "8                   preschool        blue collar  <=50k     25\n",
       "5                   associate            unknown   >50k     19\n",
       "9                   preschool            service  <=50k     17\n",
       "19                    primary       white collar   >50k     17\n",
       "24           secondary school            service   >50k     12\n",
       "10                  preschool            unknown  <=50k      5\n",
       "26           secondary school            unknown   >50k      5\n",
       "17                    primary            unknown   >50k      4\n",
       "31  secondary-school graduate            miltary  <=50k      4\n",
       "11                  preschool       white collar  <=50k      3\n",
       "40               some college            miltary  <=50k      2\n",
       "49                   tertiary            miltary  <=50k      1\n",
       "50                   tertiary            miltary   >50k      1\n",
       "15                    primary            service   >50k      1\n",
       "22           secondary school            miltary  <=50k      1"
      ]
     },
     "execution_count": 57,
     "metadata": {},
     "output_type": "execute_result"
    }
   ],
   "source": [
    "adult_income_edu_occ=adult_df_income_edu_occ=adult_df.groupby(['education_level', 'occupation_grouped','income']).size().reset_index(name='total').sort_values('total', ascending = False)\n",
    "adult_df_income_edu_occ"
   ]
  },
  {
   "cell_type": "code",
   "execution_count": 58,
   "id": "92f4c0c8-ce30-4278-ac86-d70cbb3fcf96",
   "metadata": {},
   "outputs": [
    {
     "data": {
      "text/html": [
       "<div>\n",
       "<style scoped>\n",
       "    .dataframe tbody tr th:only-of-type {\n",
       "        vertical-align: middle;\n",
       "    }\n",
       "\n",
       "    .dataframe tbody tr th {\n",
       "        vertical-align: top;\n",
       "    }\n",
       "\n",
       "    .dataframe thead th {\n",
       "        text-align: right;\n",
       "    }\n",
       "</style>\n",
       "<table border=\"1\" class=\"dataframe\">\n",
       "  <thead>\n",
       "    <tr style=\"text-align: right;\">\n",
       "      <th></th>\n",
       "      <th>education_level</th>\n",
       "      <th>occupation_grouped</th>\n",
       "      <th>income</th>\n",
       "      <th>total</th>\n",
       "      <th>edu_occ</th>\n",
       "    </tr>\n",
       "  </thead>\n",
       "  <tbody>\n",
       "    <tr>\n",
       "      <th>29</th>\n",
       "      <td>secondary-school graduate</td>\n",
       "      <td>blue collar</td>\n",
       "      <td>&lt;=50k</td>\n",
       "      <td>3976</td>\n",
       "      <td>secondary-school graduate | blue collar</td>\n",
       "    </tr>\n",
       "    <tr>\n",
       "      <th>56</th>\n",
       "      <td>tertiary</td>\n",
       "      <td>white collar</td>\n",
       "      <td>&gt;50k</td>\n",
       "      <td>3545</td>\n",
       "      <td>tertiary | white collar</td>\n",
       "    </tr>\n",
       "    <tr>\n",
       "      <th>55</th>\n",
       "      <td>tertiary</td>\n",
       "      <td>white collar</td>\n",
       "      <td>&lt;=50k</td>\n",
       "      <td>3369</td>\n",
       "      <td>tertiary | white collar</td>\n",
       "    </tr>\n",
       "    <tr>\n",
       "      <th>45</th>\n",
       "      <td>some college</td>\n",
       "      <td>white collar</td>\n",
       "      <td>&lt;=50k</td>\n",
       "      <td>3004</td>\n",
       "      <td>some college | white collar</td>\n",
       "    </tr>\n",
       "    <tr>\n",
       "      <th>36</th>\n",
       "      <td>secondary-school graduate</td>\n",
       "      <td>white collar</td>\n",
       "      <td>&lt;=50k</td>\n",
       "      <td>2900</td>\n",
       "      <td>secondary-school graduate | white collar</td>\n",
       "    </tr>\n",
       "    <tr>\n",
       "      <th>38</th>\n",
       "      <td>some college</td>\n",
       "      <td>blue collar</td>\n",
       "      <td>&lt;=50k</td>\n",
       "      <td>1503</td>\n",
       "      <td>some college | blue collar</td>\n",
       "    </tr>\n",
       "    <tr>\n",
       "      <th>32</th>\n",
       "      <td>secondary-school graduate</td>\n",
       "      <td>service</td>\n",
       "      <td>&lt;=50k</td>\n",
       "      <td>1444</td>\n",
       "      <td>secondary-school graduate | service</td>\n",
       "    </tr>\n",
       "    <tr>\n",
       "      <th>20</th>\n",
       "      <td>secondary school</td>\n",
       "      <td>blue collar</td>\n",
       "      <td>&lt;=50k</td>\n",
       "      <td>1349</td>\n",
       "      <td>secondary school | blue collar</td>\n",
       "    </tr>\n",
       "    <tr>\n",
       "      <th>6</th>\n",
       "      <td>associate</td>\n",
       "      <td>white collar</td>\n",
       "      <td>&lt;=50k</td>\n",
       "      <td>1015</td>\n",
       "      <td>associate | white collar</td>\n",
       "    </tr>\n",
       "    <tr>\n",
       "      <th>41</th>\n",
       "      <td>some college</td>\n",
       "      <td>service</td>\n",
       "      <td>&lt;=50k</td>\n",
       "      <td>902</td>\n",
       "      <td>some college | service</td>\n",
       "    </tr>\n",
       "    <tr>\n",
       "      <th>46</th>\n",
       "      <td>some college</td>\n",
       "      <td>white collar</td>\n",
       "      <td>&gt;50k</td>\n",
       "      <td>858</td>\n",
       "      <td>some college | white collar</td>\n",
       "    </tr>\n",
       "    <tr>\n",
       "      <th>30</th>\n",
       "      <td>secondary-school graduate</td>\n",
       "      <td>blue collar</td>\n",
       "      <td>&gt;50k</td>\n",
       "      <td>796</td>\n",
       "      <td>secondary-school graduate | blue collar</td>\n",
       "    </tr>\n",
       "    <tr>\n",
       "      <th>37</th>\n",
       "      <td>secondary-school graduate</td>\n",
       "      <td>white collar</td>\n",
       "      <td>&gt;50k</td>\n",
       "      <td>731</td>\n",
       "      <td>secondary-school graduate | white collar</td>\n",
       "    </tr>\n",
       "    <tr>\n",
       "      <th>23</th>\n",
       "      <td>secondary school</td>\n",
       "      <td>service</td>\n",
       "      <td>&lt;=50k</td>\n",
       "      <td>663</td>\n",
       "      <td>secondary school | service</td>\n",
       "    </tr>\n",
       "    <tr>\n",
       "      <th>12</th>\n",
       "      <td>primary</td>\n",
       "      <td>blue collar</td>\n",
       "      <td>&lt;=50k</td>\n",
       "      <td>634</td>\n",
       "      <td>primary | blue collar</td>\n",
       "    </tr>\n",
       "    <tr>\n",
       "      <th>27</th>\n",
       "      <td>secondary school</td>\n",
       "      <td>white collar</td>\n",
       "      <td>&lt;=50k</td>\n",
       "      <td>552</td>\n",
       "      <td>secondary school | white collar</td>\n",
       "    </tr>\n",
       "    <tr>\n",
       "      <th>34</th>\n",
       "      <td>secondary-school graduate</td>\n",
       "      <td>unknown</td>\n",
       "      <td>&lt;=50k</td>\n",
       "      <td>487</td>\n",
       "      <td>secondary-school graduate | unknown</td>\n",
       "    </tr>\n",
       "    <tr>\n",
       "      <th>0</th>\n",
       "      <td>associate</td>\n",
       "      <td>blue collar</td>\n",
       "      <td>&lt;=50k</td>\n",
       "      <td>482</td>\n",
       "      <td>associate | blue collar</td>\n",
       "    </tr>\n",
       "    <tr>\n",
       "      <th>43</th>\n",
       "      <td>some college</td>\n",
       "      <td>unknown</td>\n",
       "      <td>&lt;=50k</td>\n",
       "      <td>481</td>\n",
       "      <td>some college | unknown</td>\n",
       "    </tr>\n",
       "    <tr>\n",
       "      <th>39</th>\n",
       "      <td>some college</td>\n",
       "      <td>blue collar</td>\n",
       "      <td>&gt;50k</td>\n",
       "      <td>397</td>\n",
       "      <td>some college | blue collar</td>\n",
       "    </tr>\n",
       "    <tr>\n",
       "      <th>7</th>\n",
       "      <td>associate</td>\n",
       "      <td>white collar</td>\n",
       "      <td>&gt;50k</td>\n",
       "      <td>397</td>\n",
       "      <td>associate | white collar</td>\n",
       "    </tr>\n",
       "    <tr>\n",
       "      <th>47</th>\n",
       "      <td>tertiary</td>\n",
       "      <td>blue collar</td>\n",
       "      <td>&lt;=50k</td>\n",
       "      <td>375</td>\n",
       "      <td>tertiary | blue collar</td>\n",
       "    </tr>\n",
       "    <tr>\n",
       "      <th>25</th>\n",
       "      <td>secondary school</td>\n",
       "      <td>unknown</td>\n",
       "      <td>&lt;=50k</td>\n",
       "      <td>307</td>\n",
       "      <td>secondary school | unknown</td>\n",
       "    </tr>\n",
       "    <tr>\n",
       "      <th>14</th>\n",
       "      <td>primary</td>\n",
       "      <td>service</td>\n",
       "      <td>&lt;=50k</td>\n",
       "      <td>243</td>\n",
       "      <td>primary | service</td>\n",
       "    </tr>\n",
       "    <tr>\n",
       "      <th>2</th>\n",
       "      <td>associate</td>\n",
       "      <td>service</td>\n",
       "      <td>&lt;=50k</td>\n",
       "      <td>237</td>\n",
       "      <td>associate | service</td>\n",
       "    </tr>\n",
       "    <tr>\n",
       "      <th>51</th>\n",
       "      <td>tertiary</td>\n",
       "      <td>service</td>\n",
       "      <td>&lt;=50k</td>\n",
       "      <td>232</td>\n",
       "      <td>tertiary | service</td>\n",
       "    </tr>\n",
       "    <tr>\n",
       "      <th>48</th>\n",
       "      <td>tertiary</td>\n",
       "      <td>blue collar</td>\n",
       "      <td>&gt;50k</td>\n",
       "      <td>183</td>\n",
       "      <td>tertiary | blue collar</td>\n",
       "    </tr>\n",
       "    <tr>\n",
       "      <th>53</th>\n",
       "      <td>tertiary</td>\n",
       "      <td>unknown</td>\n",
       "      <td>&lt;=50k</td>\n",
       "      <td>172</td>\n",
       "      <td>tertiary | unknown</td>\n",
       "    </tr>\n",
       "    <tr>\n",
       "      <th>1</th>\n",
       "      <td>associate</td>\n",
       "      <td>blue collar</td>\n",
       "      <td>&gt;50k</td>\n",
       "      <td>166</td>\n",
       "      <td>associate | blue collar</td>\n",
       "    </tr>\n",
       "    <tr>\n",
       "      <th>21</th>\n",
       "      <td>secondary school</td>\n",
       "      <td>blue collar</td>\n",
       "      <td>&gt;50k</td>\n",
       "      <td>116</td>\n",
       "      <td>secondary school | blue collar</td>\n",
       "    </tr>\n",
       "    <tr>\n",
       "      <th>16</th>\n",
       "      <td>primary</td>\n",
       "      <td>unknown</td>\n",
       "      <td>&lt;=50k</td>\n",
       "      <td>111</td>\n",
       "      <td>primary | unknown</td>\n",
       "    </tr>\n",
       "    <tr>\n",
       "      <th>33</th>\n",
       "      <td>secondary-school graduate</td>\n",
       "      <td>service</td>\n",
       "      <td>&gt;50k</td>\n",
       "      <td>100</td>\n",
       "      <td>secondary-school graduate | service</td>\n",
       "    </tr>\n",
       "    <tr>\n",
       "      <th>52</th>\n",
       "      <td>tertiary</td>\n",
       "      <td>service</td>\n",
       "      <td>&gt;50k</td>\n",
       "      <td>97</td>\n",
       "      <td>tertiary | service</td>\n",
       "    </tr>\n",
       "    <tr>\n",
       "      <th>42</th>\n",
       "      <td>some college</td>\n",
       "      <td>service</td>\n",
       "      <td>&gt;50k</td>\n",
       "      <td>95</td>\n",
       "      <td>some college | service</td>\n",
       "    </tr>\n",
       "    <tr>\n",
       "      <th>18</th>\n",
       "      <td>primary</td>\n",
       "      <td>white collar</td>\n",
       "      <td>&lt;=50k</td>\n",
       "      <td>93</td>\n",
       "      <td>primary | white collar</td>\n",
       "    </tr>\n",
       "    <tr>\n",
       "      <th>4</th>\n",
       "      <td>associate</td>\n",
       "      <td>unknown</td>\n",
       "      <td>&lt;=50k</td>\n",
       "      <td>89</td>\n",
       "      <td>associate | unknown</td>\n",
       "    </tr>\n",
       "    <tr>\n",
       "      <th>54</th>\n",
       "      <td>tertiary</td>\n",
       "      <td>unknown</td>\n",
       "      <td>&gt;50k</td>\n",
       "      <td>82</td>\n",
       "      <td>tertiary | unknown</td>\n",
       "    </tr>\n",
       "    <tr>\n",
       "      <th>28</th>\n",
       "      <td>secondary school</td>\n",
       "      <td>white collar</td>\n",
       "      <td>&gt;50k</td>\n",
       "      <td>49</td>\n",
       "      <td>secondary school | white collar</td>\n",
       "    </tr>\n",
       "    <tr>\n",
       "      <th>35</th>\n",
       "      <td>secondary-school graduate</td>\n",
       "      <td>unknown</td>\n",
       "      <td>&gt;50k</td>\n",
       "      <td>46</td>\n",
       "      <td>secondary-school graduate | unknown</td>\n",
       "    </tr>\n",
       "    <tr>\n",
       "      <th>3</th>\n",
       "      <td>associate</td>\n",
       "      <td>service</td>\n",
       "      <td>&gt;50k</td>\n",
       "      <td>44</td>\n",
       "      <td>associate | service</td>\n",
       "    </tr>\n",
       "    <tr>\n",
       "      <th>13</th>\n",
       "      <td>primary</td>\n",
       "      <td>blue collar</td>\n",
       "      <td>&gt;50k</td>\n",
       "      <td>40</td>\n",
       "      <td>primary | blue collar</td>\n",
       "    </tr>\n",
       "    <tr>\n",
       "      <th>44</th>\n",
       "      <td>some college</td>\n",
       "      <td>unknown</td>\n",
       "      <td>&gt;50k</td>\n",
       "      <td>35</td>\n",
       "      <td>some college | unknown</td>\n",
       "    </tr>\n",
       "    <tr>\n",
       "      <th>8</th>\n",
       "      <td>preschool</td>\n",
       "      <td>blue collar</td>\n",
       "      <td>&lt;=50k</td>\n",
       "      <td>25</td>\n",
       "      <td>preschool | blue collar</td>\n",
       "    </tr>\n",
       "    <tr>\n",
       "      <th>5</th>\n",
       "      <td>associate</td>\n",
       "      <td>unknown</td>\n",
       "      <td>&gt;50k</td>\n",
       "      <td>19</td>\n",
       "      <td>associate | unknown</td>\n",
       "    </tr>\n",
       "    <tr>\n",
       "      <th>9</th>\n",
       "      <td>preschool</td>\n",
       "      <td>service</td>\n",
       "      <td>&lt;=50k</td>\n",
       "      <td>17</td>\n",
       "      <td>preschool | service</td>\n",
       "    </tr>\n",
       "    <tr>\n",
       "      <th>19</th>\n",
       "      <td>primary</td>\n",
       "      <td>white collar</td>\n",
       "      <td>&gt;50k</td>\n",
       "      <td>17</td>\n",
       "      <td>primary | white collar</td>\n",
       "    </tr>\n",
       "    <tr>\n",
       "      <th>24</th>\n",
       "      <td>secondary school</td>\n",
       "      <td>service</td>\n",
       "      <td>&gt;50k</td>\n",
       "      <td>12</td>\n",
       "      <td>secondary school | service</td>\n",
       "    </tr>\n",
       "    <tr>\n",
       "      <th>10</th>\n",
       "      <td>preschool</td>\n",
       "      <td>unknown</td>\n",
       "      <td>&lt;=50k</td>\n",
       "      <td>5</td>\n",
       "      <td>preschool | unknown</td>\n",
       "    </tr>\n",
       "    <tr>\n",
       "      <th>26</th>\n",
       "      <td>secondary school</td>\n",
       "      <td>unknown</td>\n",
       "      <td>&gt;50k</td>\n",
       "      <td>5</td>\n",
       "      <td>secondary school | unknown</td>\n",
       "    </tr>\n",
       "    <tr>\n",
       "      <th>17</th>\n",
       "      <td>primary</td>\n",
       "      <td>unknown</td>\n",
       "      <td>&gt;50k</td>\n",
       "      <td>4</td>\n",
       "      <td>primary | unknown</td>\n",
       "    </tr>\n",
       "    <tr>\n",
       "      <th>31</th>\n",
       "      <td>secondary-school graduate</td>\n",
       "      <td>miltary</td>\n",
       "      <td>&lt;=50k</td>\n",
       "      <td>4</td>\n",
       "      <td>secondary-school graduate | miltary</td>\n",
       "    </tr>\n",
       "    <tr>\n",
       "      <th>11</th>\n",
       "      <td>preschool</td>\n",
       "      <td>white collar</td>\n",
       "      <td>&lt;=50k</td>\n",
       "      <td>3</td>\n",
       "      <td>preschool | white collar</td>\n",
       "    </tr>\n",
       "    <tr>\n",
       "      <th>40</th>\n",
       "      <td>some college</td>\n",
       "      <td>miltary</td>\n",
       "      <td>&lt;=50k</td>\n",
       "      <td>2</td>\n",
       "      <td>some college | miltary</td>\n",
       "    </tr>\n",
       "    <tr>\n",
       "      <th>49</th>\n",
       "      <td>tertiary</td>\n",
       "      <td>miltary</td>\n",
       "      <td>&lt;=50k</td>\n",
       "      <td>1</td>\n",
       "      <td>tertiary | miltary</td>\n",
       "    </tr>\n",
       "    <tr>\n",
       "      <th>50</th>\n",
       "      <td>tertiary</td>\n",
       "      <td>miltary</td>\n",
       "      <td>&gt;50k</td>\n",
       "      <td>1</td>\n",
       "      <td>tertiary | miltary</td>\n",
       "    </tr>\n",
       "    <tr>\n",
       "      <th>15</th>\n",
       "      <td>primary</td>\n",
       "      <td>service</td>\n",
       "      <td>&gt;50k</td>\n",
       "      <td>1</td>\n",
       "      <td>primary | service</td>\n",
       "    </tr>\n",
       "    <tr>\n",
       "      <th>22</th>\n",
       "      <td>secondary school</td>\n",
       "      <td>miltary</td>\n",
       "      <td>&lt;=50k</td>\n",
       "      <td>1</td>\n",
       "      <td>secondary school | miltary</td>\n",
       "    </tr>\n",
       "  </tbody>\n",
       "</table>\n",
       "</div>"
      ],
      "text/plain": [
       "              education_level occupation_grouped income  total  \\\n",
       "29  secondary-school graduate        blue collar  <=50k   3976   \n",
       "56                   tertiary       white collar   >50k   3545   \n",
       "55                   tertiary       white collar  <=50k   3369   \n",
       "45               some college       white collar  <=50k   3004   \n",
       "36  secondary-school graduate       white collar  <=50k   2900   \n",
       "38               some college        blue collar  <=50k   1503   \n",
       "32  secondary-school graduate            service  <=50k   1444   \n",
       "20           secondary school        blue collar  <=50k   1349   \n",
       "6                   associate       white collar  <=50k   1015   \n",
       "41               some college            service  <=50k    902   \n",
       "46               some college       white collar   >50k    858   \n",
       "30  secondary-school graduate        blue collar   >50k    796   \n",
       "37  secondary-school graduate       white collar   >50k    731   \n",
       "23           secondary school            service  <=50k    663   \n",
       "12                    primary        blue collar  <=50k    634   \n",
       "27           secondary school       white collar  <=50k    552   \n",
       "34  secondary-school graduate            unknown  <=50k    487   \n",
       "0                   associate        blue collar  <=50k    482   \n",
       "43               some college            unknown  <=50k    481   \n",
       "39               some college        blue collar   >50k    397   \n",
       "7                   associate       white collar   >50k    397   \n",
       "47                   tertiary        blue collar  <=50k    375   \n",
       "25           secondary school            unknown  <=50k    307   \n",
       "14                    primary            service  <=50k    243   \n",
       "2                   associate            service  <=50k    237   \n",
       "51                   tertiary            service  <=50k    232   \n",
       "48                   tertiary        blue collar   >50k    183   \n",
       "53                   tertiary            unknown  <=50k    172   \n",
       "1                   associate        blue collar   >50k    166   \n",
       "21           secondary school        blue collar   >50k    116   \n",
       "16                    primary            unknown  <=50k    111   \n",
       "33  secondary-school graduate            service   >50k    100   \n",
       "52                   tertiary            service   >50k     97   \n",
       "42               some college            service   >50k     95   \n",
       "18                    primary       white collar  <=50k     93   \n",
       "4                   associate            unknown  <=50k     89   \n",
       "54                   tertiary            unknown   >50k     82   \n",
       "28           secondary school       white collar   >50k     49   \n",
       "35  secondary-school graduate            unknown   >50k     46   \n",
       "3                   associate            service   >50k     44   \n",
       "13                    primary        blue collar   >50k     40   \n",
       "44               some college            unknown   >50k     35   \n",
       "8                   preschool        blue collar  <=50k     25   \n",
       "5                   associate            unknown   >50k     19   \n",
       "9                   preschool            service  <=50k     17   \n",
       "19                    primary       white collar   >50k     17   \n",
       "24           secondary school            service   >50k     12   \n",
       "10                  preschool            unknown  <=50k      5   \n",
       "26           secondary school            unknown   >50k      5   \n",
       "17                    primary            unknown   >50k      4   \n",
       "31  secondary-school graduate            miltary  <=50k      4   \n",
       "11                  preschool       white collar  <=50k      3   \n",
       "40               some college            miltary  <=50k      2   \n",
       "49                   tertiary            miltary  <=50k      1   \n",
       "50                   tertiary            miltary   >50k      1   \n",
       "15                    primary            service   >50k      1   \n",
       "22           secondary school            miltary  <=50k      1   \n",
       "\n",
       "                                     edu_occ  \n",
       "29   secondary-school graduate | blue collar  \n",
       "56                   tertiary | white collar  \n",
       "55                   tertiary | white collar  \n",
       "45               some college | white collar  \n",
       "36  secondary-school graduate | white collar  \n",
       "38                some college | blue collar  \n",
       "32       secondary-school graduate | service  \n",
       "20            secondary school | blue collar  \n",
       "6                   associate | white collar  \n",
       "41                    some college | service  \n",
       "46               some college | white collar  \n",
       "30   secondary-school graduate | blue collar  \n",
       "37  secondary-school graduate | white collar  \n",
       "23                secondary school | service  \n",
       "12                     primary | blue collar  \n",
       "27           secondary school | white collar  \n",
       "34       secondary-school graduate | unknown  \n",
       "0                    associate | blue collar  \n",
       "43                    some college | unknown  \n",
       "39                some college | blue collar  \n",
       "7                   associate | white collar  \n",
       "47                    tertiary | blue collar  \n",
       "25                secondary school | unknown  \n",
       "14                         primary | service  \n",
       "2                        associate | service  \n",
       "51                        tertiary | service  \n",
       "48                    tertiary | blue collar  \n",
       "53                        tertiary | unknown  \n",
       "1                    associate | blue collar  \n",
       "21            secondary school | blue collar  \n",
       "16                         primary | unknown  \n",
       "33       secondary-school graduate | service  \n",
       "52                        tertiary | service  \n",
       "42                    some college | service  \n",
       "18                    primary | white collar  \n",
       "4                        associate | unknown  \n",
       "54                        tertiary | unknown  \n",
       "28           secondary school | white collar  \n",
       "35       secondary-school graduate | unknown  \n",
       "3                        associate | service  \n",
       "13                     primary | blue collar  \n",
       "44                    some college | unknown  \n",
       "8                    preschool | blue collar  \n",
       "5                        associate | unknown  \n",
       "9                        preschool | service  \n",
       "19                    primary | white collar  \n",
       "24                secondary school | service  \n",
       "10                       preschool | unknown  \n",
       "26                secondary school | unknown  \n",
       "17                         primary | unknown  \n",
       "31       secondary-school graduate | miltary  \n",
       "11                  preschool | white collar  \n",
       "40                    some college | miltary  \n",
       "49                        tertiary | miltary  \n",
       "50                        tertiary | miltary  \n",
       "15                         primary | service  \n",
       "22                secondary school | miltary  "
      ]
     },
     "execution_count": 58,
     "metadata": {},
     "output_type": "execute_result"
    }
   ],
   "source": [
    "adult_df_income_edu_occ['edu_occ'] = (adult_df_income_edu_occ['education_level'])+\" | \" + (adult_df_income_edu_occ['occupation_grouped'])\n",
    "                                    \n",
    "adult_df_income_edu_occ"
   ]
  },
  {
   "cell_type": "code",
   "execution_count": 59,
   "id": "7540a9c9-7697-44a5-a8c7-b60f002109f5",
   "metadata": {},
   "outputs": [
    {
     "data": {
      "application/vnd.plotly.v1+json": {
       "config": {
        "plotlyServerURL": "https://plot.ly"
       },
       "data": [
        {
         "hovertemplate": "income=<=50k<br>total=%{text}<br>edu_occ=%{y}<extra></extra>",
         "legendgroup": "<=50k",
         "marker": {
          "color": "rgb(103,0,31)",
          "pattern": {
           "shape": ""
          }
         },
         "name": "<=50k",
         "orientation": "h",
         "showlegend": true,
         "text": {
          "_inputArray": {
           "0": 3976,
           "1": 3369,
           "10": 634,
           "2": 3004,
           "3": 2900,
           "4": 1503,
           "5": 1444,
           "6": 1349,
           "7": 1015,
           "8": 902,
           "9": 663,
           "bdata": "AAAAAAAQr0AAAAAAAFKqQAAAAAAAeKdAAAAAAACopkAAAAAAAHyXQAAAAAAAkJZAAAAAAAAUlUAAAAAAALiPQAAAAAAAMIxAAAAAAAC4hEAAAAAAANCDQA==",
           "dtype": "f8",
           "shape": "11"
          },
          "bdata": "AAAAAAAQr0AAAAAAAFKqQAAAAAAAeKdAAAAAAACopkAAAAAAAHyXQAAAAAAAkJZAAAAAAAAUlUAAAAAAALiPQAAAAAAAMIxAAAAAAAC4hEAAAAAAANCDQA==",
          "dtype": "f8"
         },
         "textposition": "auto",
         "type": "bar",
         "x": {
          "_inputArray": {
           "0": 3976,
           "1": 3369,
           "10": 634,
           "2": 3004,
           "3": 2900,
           "4": 1503,
           "5": 1444,
           "6": 1349,
           "7": 1015,
           "8": 902,
           "9": 663,
           "bdata": "iA8pDbwLVAvfBaQFRQX3A4YDlwJ6Ag==",
           "dtype": "i2",
           "shape": "11"
          },
          "bdata": "iA8pDbwLVAvfBaQFRQX3A4YDlwJ6Ag==",
          "dtype": "i2"
         },
         "xaxis": "x",
         "y": [
          "secondary-school graduate | blue collar",
          "tertiary | white collar",
          "some college | white collar",
          "secondary-school graduate | white collar",
          "some college | blue collar",
          "secondary-school graduate | service",
          "secondary school | blue collar",
          "associate | white collar",
          "some college | service",
          "secondary school | service",
          "primary | blue collar"
         ],
         "yaxis": "y"
        },
        {
         "hovertemplate": "income=>50k<br>total=%{text}<br>edu_occ=%{y}<extra></extra>",
         "legendgroup": ">50k",
         "marker": {
          "color": "rgb(178,24,43)",
          "pattern": {
           "shape": ""
          }
         },
         "name": ">50k",
         "orientation": "h",
         "showlegend": true,
         "text": {
          "_inputArray": {
           "0": 3545,
           "1": 858,
           "2": 796,
           "3": 731,
           "bdata": "AAAAAACyq0AAAAAAANCKQAAAAAAA4IhAAAAAAADYhkA=",
           "dtype": "f8",
           "shape": "4"
          },
          "bdata": "AAAAAACyq0AAAAAAANCKQAAAAAAA4IhAAAAAAADYhkA=",
          "dtype": "f8"
         },
         "textposition": "auto",
         "type": "bar",
         "x": {
          "_inputArray": {
           "0": 3545,
           "1": 858,
           "2": 796,
           "3": 731,
           "bdata": "2Q1aAxwD2wI=",
           "dtype": "i2",
           "shape": "4"
          },
          "bdata": "2Q1aAxwD2wI=",
          "dtype": "i2"
         },
         "xaxis": "x",
         "y": [
          "tertiary | white collar",
          "some college | white collar",
          "secondary-school graduate | blue collar",
          "secondary-school graduate | white collar"
         ],
         "yaxis": "y"
        }
       ],
       "layout": {
        "barmode": "relative",
        "height": 500,
        "legend": {
         "title": {
          "text": "Income Level"
         },
         "tracegroupgap": 0
        },
        "margin": {
         "b": 50,
         "l": 450,
         "r": 50,
         "t": 50
        },
        "template": {
         "data": {
          "pie": [
           {
            "automargin": true,
            "type": "pie"
           }
          ],
          "scatter": [
           {
            "line": {
             "width": 3
            },
            "marker": {
             "size": 9
            },
            "type": "scatter"
           }
          ],
          "scatter3d": [
           {
            "line": {
             "width": 3
            },
            "marker": {
             "size": 9
            },
            "type": "scatter3d"
           }
          ],
          "scattergeo": [
           {
            "line": {
             "width": 3
            },
            "marker": {
             "size": 9
            },
            "type": "scattergeo"
           }
          ],
          "scattergl": [
           {
            "line": {
             "width": 3
            },
            "marker": {
             "size": 9
            },
            "type": "scattergl"
           }
          ],
          "scatterpolar": [
           {
            "line": {
             "width": 3
            },
            "marker": {
             "size": 9
            },
            "type": "scatterpolar"
           }
          ],
          "scatterpolargl": [
           {
            "line": {
             "width": 3
            },
            "marker": {
             "size": 9
            },
            "type": "scatterpolargl"
           }
          ],
          "scatterternary": [
           {
            "line": {
             "width": 3
            },
            "marker": {
             "size": 9
            },
            "type": "scatterternary"
           }
          ],
          "table": [
           {
            "cells": {
             "height": 30
            },
            "header": {
             "height": 36
            },
            "type": "table"
           }
          ]
         },
         "layout": {
          "font": {
           "size": 18
          },
          "xaxis": {
           "title": {
            "standoff": 15
           }
          },
          "yaxis": {
           "title": {
            "standoff": 15
           }
          }
         }
        },
        "title": {
         "text": "Top15 Education and Occupation Groups Combinations by Income Group"
        },
        "width": 1100,
        "xaxis": {
         "anchor": "y",
         "autorange": true,
         "domain": [
          0,
          1
         ],
         "range": [
          0,
          7277.894736842105
         ],
         "title": {
          "text": "Number of Individuals"
         },
         "type": "linear"
        },
        "yaxis": {
         "anchor": "x",
         "autorange": true,
         "domain": [
          0,
          1
         ],
         "range": [
          -0.5,
          10.5
         ],
         "title": {
          "text": "Education | Occupation Group"
         },
         "type": "category"
        }
       }
      },
      "image/png": "[encoded data removed]"
     },
     "metadata": {},
     "output_type": "display_data"
    }
   ],
   "source": [
    "num = 15\n",
    "adult_df_combos = adult_df_income_edu_occ.head(num)\n",
    "fig = px.bar(\n",
    "    adult_df_combos,\n",
    "    x = 'total',\n",
    "    y = 'edu_occ',\n",
    "    color = 'income',\n",
    "    orientation = 'h',\n",
    "    title = f'Top{num} Education and Occupation Groups Combinations by Income Group',\n",
    "    # barmode = 'group',\n",
    "    height = 500,\n",
    "    width=1100,\n",
    "    color_discrete_sequence=px.colors.sequential.RdBu,\n",
    "    text = 'total'\n",
    ")\n",
    "\n",
    "fig.update_layout(template=\"presentation\", xaxis_title='Number of Individuals',\n",
    "                  yaxis_title='Education | Occupation Group',\n",
    "                  legend_title=dict(text='Income Level'),\n",
    "                margin=dict(l=450, r=50, t= 50, b=50))\n",
    "\n",
    "fig.show()\n",
    "fig.write_image(os.path.join(results_dir,'income_distribution_Eduocc_bar_chart.jpg'))\n",
    "fig.write_image(os.path.join(results_dir,'income_distribution_Eduocc_bar_chart.png'))\n",
    "fig.write_html(os.path.join(results_dir,'income_distribution_Eduocc_bar_chart.html'))"
   ]
  },
  {
   "cell_type": "code",
   "execution_count": null,
   "id": "ecb59df2-1272-499d-beae-3c37b737312a",
   "metadata": {},
   "outputs": [],
   "source": []
  }
 ],
 "metadata": {
  "kernelspec": {
   "display_name": "Python 3 (ipykernel)",
   "language": "python",
   "name": "python3"
  },
  "language_info": {
   "codemirror_mode": {
    "name": "ipython",
    "version": 3
   },
   "file_extension": ".py",
   "mimetype": "text/x-python",
   "name": "python",
   "nbconvert_exporter": "python",
   "pygments_lexer": "ipython3",
   "version": "3.12.7"
  }
 },
 "nbformat": 4,
 "nbformat_minor": 5
}
